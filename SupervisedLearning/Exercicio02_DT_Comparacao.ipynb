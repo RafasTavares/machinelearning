{
 "cells": [
  {
   "cell_type": "markdown",
   "metadata": {
    "deletable": true,
    "editable": true
   },
   "source": [
    "# Aprendizado Supervisionado\n",
    "\n",
    "## Exercício 02\n",
    "\n",
    "### Atividade 01\n",
    "\n",
    "Finalize a construção da árvore de decisão a seguir. Utilize os conceitos de Entropia e Ganho de Informação vistos no tutorial de árvore de decisão.\n",
    "\n",
    "<img src=\"http://www.data2learning.com/machinelearning/images_notebook/arvoredecisao_02.png\" width=\"40%\">\n"
   ]
  },
  {
   "cell_type": "markdown",
   "metadata": {
    "deletable": true,
    "editable": true
   },
   "source": [
    "### Atividade 02\n",
    "\n",
    "Considere a base de dados a seguir: "
   ]
  },
  {
   "cell_type": "code",
   "execution_count": 2,
   "metadata": {
    "collapsed": false,
    "deletable": true,
    "editable": true
   },
   "outputs": [
    {
     "data": {
      "text/html": [
       "<div>\n",
       "<style>\n",
       "    .dataframe thead tr:only-child th {\n",
       "        text-align: right;\n",
       "    }\n",
       "\n",
       "    .dataframe thead th {\n",
       "        text-align: left;\n",
       "    }\n",
       "\n",
       "    .dataframe tbody tr th {\n",
       "        vertical-align: top;\n",
       "    }\n",
       "</style>\n",
       "<table border=\"1\" class=\"dataframe\">\n",
       "  <thead>\n",
       "    <tr style=\"text-align: right;\">\n",
       "      <th></th>\n",
       "      <th>Idade</th>\n",
       "      <th>Salario</th>\n",
       "      <th>SuperioCompleto</th>\n",
       "      <th>Dependetes</th>\n",
       "      <th>Atrasou</th>\n",
       "    </tr>\n",
       "  </thead>\n",
       "  <tbody>\n",
       "    <tr>\n",
       "      <th>0</th>\n",
       "      <td>MENOR30</td>\n",
       "      <td>ALTO</td>\n",
       "      <td>NAO</td>\n",
       "      <td>NAO</td>\n",
       "      <td>NAO</td>\n",
       "    </tr>\n",
       "    <tr>\n",
       "      <th>1</th>\n",
       "      <td>MENOR30</td>\n",
       "      <td>ALTO</td>\n",
       "      <td>NAO</td>\n",
       "      <td>SIM</td>\n",
       "      <td>NAO</td>\n",
       "    </tr>\n",
       "    <tr>\n",
       "      <th>2</th>\n",
       "      <td>3140</td>\n",
       "      <td>ALTO</td>\n",
       "      <td>NAO</td>\n",
       "      <td>NAO</td>\n",
       "      <td>SIM</td>\n",
       "    </tr>\n",
       "    <tr>\n",
       "      <th>3</th>\n",
       "      <td>MAIOR40</td>\n",
       "      <td>MEDIO</td>\n",
       "      <td>NAO</td>\n",
       "      <td>NAO</td>\n",
       "      <td>SIM</td>\n",
       "    </tr>\n",
       "    <tr>\n",
       "      <th>4</th>\n",
       "      <td>MAIOR40</td>\n",
       "      <td>BAIXO</td>\n",
       "      <td>SIM</td>\n",
       "      <td>NAO</td>\n",
       "      <td>SIM</td>\n",
       "    </tr>\n",
       "    <tr>\n",
       "      <th>5</th>\n",
       "      <td>MAIOR40</td>\n",
       "      <td>BAIXO</td>\n",
       "      <td>SIM</td>\n",
       "      <td>SIM</td>\n",
       "      <td>NAO</td>\n",
       "    </tr>\n",
       "    <tr>\n",
       "      <th>6</th>\n",
       "      <td>3140</td>\n",
       "      <td>BAIXO</td>\n",
       "      <td>SIM</td>\n",
       "      <td>SIM</td>\n",
       "      <td>SIM</td>\n",
       "    </tr>\n",
       "    <tr>\n",
       "      <th>7</th>\n",
       "      <td>MENOR30</td>\n",
       "      <td>MEDIO</td>\n",
       "      <td>NAO</td>\n",
       "      <td>NAO</td>\n",
       "      <td>NAO</td>\n",
       "    </tr>\n",
       "    <tr>\n",
       "      <th>8</th>\n",
       "      <td>MENOR30</td>\n",
       "      <td>BAIXO</td>\n",
       "      <td>SIM</td>\n",
       "      <td>SIM</td>\n",
       "      <td>SIM</td>\n",
       "    </tr>\n",
       "    <tr>\n",
       "      <th>9</th>\n",
       "      <td>MAIOR40</td>\n",
       "      <td>MEDIO</td>\n",
       "      <td>SIM</td>\n",
       "      <td>NAO</td>\n",
       "      <td>SIM</td>\n",
       "    </tr>\n",
       "    <tr>\n",
       "      <th>10</th>\n",
       "      <td>MENOR30</td>\n",
       "      <td>MEDIO</td>\n",
       "      <td>SIM</td>\n",
       "      <td>SIM</td>\n",
       "      <td>SIM</td>\n",
       "    </tr>\n",
       "    <tr>\n",
       "      <th>11</th>\n",
       "      <td>3140</td>\n",
       "      <td>MEDIO</td>\n",
       "      <td>NAO</td>\n",
       "      <td>SIM</td>\n",
       "      <td>SIM</td>\n",
       "    </tr>\n",
       "    <tr>\n",
       "      <th>12</th>\n",
       "      <td>3140</td>\n",
       "      <td>ALTO</td>\n",
       "      <td>SIM</td>\n",
       "      <td>NAO</td>\n",
       "      <td>SIM</td>\n",
       "    </tr>\n",
       "    <tr>\n",
       "      <th>13</th>\n",
       "      <td>MAIOR40</td>\n",
       "      <td>MEDIO</td>\n",
       "      <td>NAO</td>\n",
       "      <td>SIM</td>\n",
       "      <td>NAO</td>\n",
       "    </tr>\n",
       "  </tbody>\n",
       "</table>\n",
       "</div>"
      ],
      "text/plain": [
       "      Idade  Salario  SuperioCompleto  Dependetes  Atrasou\n",
       "0   MENOR30     ALTO              NAO         NAO      NAO\n",
       "1   MENOR30     ALTO              NAO         SIM      NAO\n",
       "2      3140     ALTO              NAO         NAO      SIM\n",
       "3   MAIOR40    MEDIO              NAO         NAO      SIM\n",
       "4   MAIOR40    BAIXO              SIM         NAO      SIM\n",
       "5   MAIOR40    BAIXO              SIM         SIM      NAO\n",
       "6      3140    BAIXO              SIM         SIM      SIM\n",
       "7   MENOR30    MEDIO              NAO         NAO      NAO\n",
       "8   MENOR30    BAIXO              SIM         SIM      SIM\n",
       "9   MAIOR40    MEDIO              SIM         NAO      SIM\n",
       "10  MENOR30    MEDIO              SIM         SIM      SIM\n",
       "11     3140    MEDIO              NAO         SIM      SIM\n",
       "12     3140     ALTO              SIM         NAO      SIM\n",
       "13  MAIOR40    MEDIO              NAO         SIM      NAO"
      ]
     },
     "execution_count": 2,
     "metadata": {},
     "output_type": "execute_result"
    }
   ],
   "source": [
    "import pandas\n",
    "\n",
    "data = pandas.read_csv('http://www.data2learning.com/machinelearning/datasets/base_dt.dat',\n",
    "                   sep=\",\")\n",
    "\n",
    "data"
   ]
  },
  {
   "cell_type": "markdown",
   "metadata": {
    "deletable": true,
    "editable": true
   },
   "source": [
    "A base analisa algumas informações sobre clientes de um plano de saúde e analisa se eles atrasaram ou não o pagamento da mensalidade do plano. Deseja-se construir um modelo de predição baseado em árvore de decisão. O primeiro passo é determinar qual o atributo raiz da árvore de decisão. Calcule qual o melhor atributo para a raiz da árvore sabendo que que o Ganho de Informação (GI) do atributo Salário é 0.03 e o do atributo SuperiorCompleto é 0.152."
   ]
  },
  {
   "cell_type": "markdown",
   "metadata": {
    "deletable": true,
    "editable": true
   },
   "source": [
    "### Atividade 03\n",
    "\n",
    "Para esta ativididade vamos trabalhar com a base de dígitos disponibilizada pelo scikit-learn.\n",
    "\n",
    "Detalhes da base podem ser econtrados [neste link](http://archive.ics.uci.edu/ml/datasets/Pen-Based+Recognition+of+Handwritten+Digits).\n",
    "\n",
    "A tarefa é classificar um conjunto de imagens de acordo com o dígito que a imagem corresponde. As imagens foram coletadas a partir de dígitos escritos à mão. \n",
    "\n",
    "Tarefa:\n",
    "\n",
    "* Aplique o algoritmo de árvore de decisão e reporte o valor da acurácia \n",
    "* Aplique o algoritmo KNN e compare o modelo de KNN (com o melhor valor de k) com o modelo de árvore de decisão.\n",
    "* Exiba a árvore de decisão criada"
   ]
  },
  {
   "cell_type": "code",
   "execution_count": 3,
   "metadata": {
    "collapsed": true,
    "deletable": true,
    "editable": true
   },
   "outputs": [],
   "source": [
    "from sklearn import datasets\n",
    "from sklearn.neighbors import KNeighborsClassifier\n",
    "from sklearn.tree import DecisionTreeClassifier\n",
    "from sklearn.model_selection import cross_val_score\n",
    "\n",
    "digits = datasets.load_digits()\n",
    "\n",
    "X = digits.data\n",
    "y = digits.target"
   ]
  }
 ],
 "metadata": {
  "kernelspec": {
   "display_name": "Python 3",
   "language": "python",
   "name": "python3"
  },
  "language_info": {
   "codemirror_mode": {
    "name": "ipython",
    "version": 3
   },
   "file_extension": ".py",
   "mimetype": "text/x-python",
   "name": "python",
   "nbconvert_exporter": "python",
   "pygments_lexer": "ipython3",
   "version": "3.6.0"
  }
 },
 "nbformat": 4,
 "nbformat_minor": 2
}
