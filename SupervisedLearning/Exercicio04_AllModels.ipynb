{
 "cells": [
  {
   "cell_type": "markdown",
   "metadata": {},
   "source": [
    "# Aprendizado Supervisionado\n",
    "\n",
    "## Exercício 04 - Testando todos os Modelos\n",
    "\n",
    "Neste exemplo, vamos testar todos os modelso estudados no curso. Vamo aplica-los a classificação de textos. A base para esse exemplo foi gerada na atividade de clusterização de documentos. Iremos utiliza-la como base de treinamento. A proposta é usar os 100 top filmes para classificar outros 100 top filmes do IMDb. Esse tipo de abordagem pode ser utilizada para realizar uma classificação inicial quando temos muitos dados e não conseguimos classifica-los manualmente. Claro que para a classificação ser mais efetiva precisaríamos realizar diversos testes na criação dos clusters e validarmos a clusterização realizada. "
   ]
  },
  {
   "cell_type": "markdown",
   "metadata": {},
   "source": [
    "### Dataset\n",
    "\n",
    "O primeiro passo é carregar a base de dados. Ela é composta de 100 filmes e para cada filme temos: \n",
    "\n",
    "* **imdbid:** Identificador no IMDb\n",
    "* **title:** Título do Filme\n",
    "* **synopse:** Sinópse do Filme\n",
    "* **class:** classificação do filme"
   ]
  },
  {
   "cell_type": "code",
   "execution_count": 18,
   "metadata": {
    "collapsed": true
   },
   "outputs": [],
   "source": [
    "# Imports Necessários\n",
    "import nltk\n",
    "import re\n",
    "import pandas as pd\n",
    "from sklearn.cluster import KMeans\n",
    "from imdbpie import Imdb\n",
    "from nltk.stem.snowball import SnowballStemmer\n",
    "from sklearn.externals import joblib"
   ]
  },
  {
   "cell_type": "code",
   "execution_count": 15,
   "metadata": {
    "collapsed": false
   },
   "outputs": [
    {
     "data": {
      "text/html": [
       "<div>\n",
       "<table border=\"1\" class=\"dataframe\">\n",
       "  <thead>\n",
       "    <tr style=\"text-align: right;\">\n",
       "      <th></th>\n",
       "      <th>class</th>\n",
       "      <th>sinopsis</th>\n",
       "      <th>title</th>\n",
       "    </tr>\n",
       "    <tr>\n",
       "      <th>imdbid</th>\n",
       "      <th></th>\n",
       "      <th></th>\n",
       "      <th></th>\n",
       "    </tr>\n",
       "  </thead>\n",
       "  <tbody>\n",
       "    <tr>\n",
       "      <th>tt0111161</th>\n",
       "      <td>2</td>\n",
       "      <td>Chronicles the experiences of a formerly succe...</td>\n",
       "      <td>The Shawshank Redemption</td>\n",
       "    </tr>\n",
       "    <tr>\n",
       "      <th>tt0068646</th>\n",
       "      <td>1</td>\n",
       "      <td>When the aging head of a famous crime family d...</td>\n",
       "      <td>The Godfather</td>\n",
       "    </tr>\n",
       "    <tr>\n",
       "      <th>tt0071562</th>\n",
       "      <td>0</td>\n",
       "      <td>The continuing saga of the Corleone crime fami...</td>\n",
       "      <td>The Godfather: Part II</td>\n",
       "    </tr>\n",
       "    <tr>\n",
       "      <th>tt0468569</th>\n",
       "      <td>0</td>\n",
       "      <td>Set within a year after the events of Batman B...</td>\n",
       "      <td>The Dark Knight</td>\n",
       "    </tr>\n",
       "    <tr>\n",
       "      <th>tt0050083</th>\n",
       "      <td>2</td>\n",
       "      <td>The defense and the prosecution have rested an...</td>\n",
       "      <td>12 Angry Men</td>\n",
       "    </tr>\n",
       "  </tbody>\n",
       "</table>\n",
       "</div>"
      ],
      "text/plain": [
       "           class                                           sinopsis  \\\n",
       "imdbid                                                                \n",
       "tt0111161      2  Chronicles the experiences of a formerly succe...   \n",
       "tt0068646      1  When the aging head of a famous crime family d...   \n",
       "tt0071562      0  The continuing saga of the Corleone crime fami...   \n",
       "tt0468569      0  Set within a year after the events of Batman B...   \n",
       "tt0050083      2  The defense and the prosecution have rested an...   \n",
       "\n",
       "                              title  \n",
       "imdbid                               \n",
       "tt0111161  The Shawshank Redemption  \n",
       "tt0068646             The Godfather  \n",
       "tt0071562    The Godfather: Part II  \n",
       "tt0468569           The Dark Knight  \n",
       "tt0050083              12 Angry Men  "
      ]
     },
     "execution_count": 15,
     "metadata": {},
     "output_type": "execute_result"
    }
   ],
   "source": [
    "dataset = joblib.load(\"../UnsupervisedLearning/moviesclassifieds.pkl\")\n",
    "data = pd.DataFrame(dataset)\n",
    "data = data.set_index(['imdbid'])\n",
    "data.head()"
   ]
  },
  {
   "cell_type": "markdown",
   "metadata": {},
   "source": [
    "Vamos carregar também o identificador das classes geradas:"
   ]
  },
  {
   "cell_type": "code",
   "execution_count": 16,
   "metadata": {
    "collapsed": false
   },
   "outputs": [
    {
     "data": {
      "text/plain": [
       "{0: [b'new', b'years', b'crime', b'friends', b'forcing', b'time'],\n",
       " 1: [b'powerful', b'war', b'world', b'wants', b'forcing', b'man'],\n",
       " 2: [b'murder', b'man', b'death', b'believes', b'help', b'time'],\n",
       " 3: [b'kill', b'men', b'plan', b'crime', b'young', b'help'],\n",
       " 4: [b'life', b'love', b'meet', b'live', b'man', b'working']}"
      ]
     },
     "execution_count": 16,
     "metadata": {},
     "output_type": "execute_result"
    }
   ],
   "source": [
    "dict_class = joblib.load(\"../UnsupervisedLearning/moviesclass.pkl\")\n",
    "dict_class"
   ]
  },
  {
   "cell_type": "markdown",
   "metadata": {},
   "source": [
    "O passo seguinte é gerar nosso **X** e **y** para os algoritmos de classificação. Vamos utilizar a mesma abordagem para a criação da matriz tf-idf no exercício de clusterização. Sendo assim, irei replicar alguns métodos. Detalhes de sua explicação estão no exercício 01 de Algoritmos Não-Supervisionados. "
   ]
  },
  {
   "cell_type": "code",
   "execution_count": 19,
   "metadata": {
    "collapsed": true
   },
   "outputs": [],
   "source": [
    "stemmer = SnowballStemmer(\"english\")\n",
    "\n",
    "def tokenize_and_stem(text):\n",
    "    # first tokenize by sentence, then by word to ensure that punctuation is caught as it's own token\n",
    "    tokens = [word for sent in nltk.sent_tokenize(text) for word in nltk.word_tokenize(sent)]\n",
    "    filtered_tokens = []\n",
    "    # filter out any tokens not containing letters (e.g., numeric tokens, raw punctuation)\n",
    "    for token in tokens:\n",
    "        if re.search('[a-zA-Z]', token):\n",
    "            filtered_tokens.append(token)\n",
    "    stems = [stemmer.stem(t) for t in filtered_tokens]\n",
    "    return stems"
   ]
  },
  {
   "cell_type": "code",
   "execution_count": 29,
   "metadata": {
    "collapsed": false
   },
   "outputs": [
    {
     "data": {
      "text/html": [
       "<div>\n",
       "<table border=\"1\" class=\"dataframe\">\n",
       "  <thead>\n",
       "    <tr style=\"text-align: right;\">\n",
       "      <th></th>\n",
       "      <th>class</th>\n",
       "      <th>sinopsis</th>\n",
       "      <th>title</th>\n",
       "    </tr>\n",
       "    <tr>\n",
       "      <th>imdbid</th>\n",
       "      <th></th>\n",
       "      <th></th>\n",
       "      <th></th>\n",
       "    </tr>\n",
       "  </thead>\n",
       "  <tbody>\n",
       "    <tr>\n",
       "      <th>tt0111161</th>\n",
       "      <td>2</td>\n",
       "      <td>Chronicles the experiences of a formerly succe...</td>\n",
       "      <td>The Shawshank Redemption</td>\n",
       "    </tr>\n",
       "    <tr>\n",
       "      <th>tt0068646</th>\n",
       "      <td>1</td>\n",
       "      <td>When the aging head of a famous crime family d...</td>\n",
       "      <td>The Godfather</td>\n",
       "    </tr>\n",
       "    <tr>\n",
       "      <th>tt0071562</th>\n",
       "      <td>0</td>\n",
       "      <td>The continuing saga of the Corleone crime fami...</td>\n",
       "      <td>The Godfather: Part II</td>\n",
       "    </tr>\n",
       "    <tr>\n",
       "      <th>tt0468569</th>\n",
       "      <td>0</td>\n",
       "      <td>Set within a year after the events of Batman B...</td>\n",
       "      <td>The Dark Knight</td>\n",
       "    </tr>\n",
       "    <tr>\n",
       "      <th>tt0050083</th>\n",
       "      <td>2</td>\n",
       "      <td>The defense and the prosecution have rested an...</td>\n",
       "      <td>12 Angry Men</td>\n",
       "    </tr>\n",
       "  </tbody>\n",
       "</table>\n",
       "</div>"
      ],
      "text/plain": [
       "           class                                           sinopsis  \\\n",
       "imdbid                                                                \n",
       "tt0111161      2  Chronicles the experiences of a formerly succe...   \n",
       "tt0068646      1  When the aging head of a famous crime family d...   \n",
       "tt0071562      0  The continuing saga of the Corleone crime fami...   \n",
       "tt0468569      0  Set within a year after the events of Batman B...   \n",
       "tt0050083      2  The defense and the prosecution have rested an...   \n",
       "\n",
       "                              title  \n",
       "imdbid                               \n",
       "tt0111161  The Shawshank Redemption  \n",
       "tt0068646             The Godfather  \n",
       "tt0071562    The Godfather: Part II  \n",
       "tt0468569           The Dark Knight  \n",
       "tt0050083              12 Angry Men  "
      ]
     },
     "execution_count": 29,
     "metadata": {},
     "output_type": "execute_result"
    }
   ],
   "source": [
    "data.head()"
   ]
  },
  {
   "cell_type": "code",
   "execution_count": 32,
   "metadata": {
    "collapsed": false
   },
   "outputs": [],
   "source": [
    "list_of_synopses = data['sinopsis'].tolist()\n",
    "classes = data['class'].tolist()"
   ]
  },
  {
   "cell_type": "code",
   "execution_count": 33,
   "metadata": {
    "collapsed": false
   },
   "outputs": [
    {
     "name": "stdout",
     "output_type": "stream",
     "text": [
      "CPU times: user 1.93 s, sys: 30.9 ms, total: 1.96 s\n",
      "Wall time: 1.99 s\n",
      "(100, 88)\n"
     ]
    }
   ],
   "source": [
    "from sklearn.feature_extraction.text import TfidfVectorizer\n",
    "\n",
    "#define vectorizer parameters\n",
    "tfidf_vectorizer = TfidfVectorizer(max_df=0.8, max_features=200000,\n",
    "                                 min_df=0.2, stop_words='english',\n",
    "                                 use_idf=True, tokenizer=tokenize_and_stem, ngram_range=(1,3))\n",
    "\n",
    "%time tfidf_matrix = tfidf_vectorizer.fit_transform(list_of_synopses) #fit the vectorizer to synopses\n",
    "\n",
    "print(tfidf_matrix.shape)"
   ]
  },
  {
   "cell_type": "code",
   "execution_count": 34,
   "metadata": {
    "collapsed": true
   },
   "outputs": [],
   "source": [
    "X = tfidf_matrix\n",
    "y = classes"
   ]
  },
  {
   "cell_type": "markdown",
   "metadata": {},
   "source": [
    "## Atividade\n",
    "\n",
    "01) Aplique os modelos estudados juntamente com o RandomForest e o NaiveByes na base de dados geradas. Escolha o melhor classificador. \n",
    "\n",
    "02) Utilize o melhor classificador para gerar classificar outros 100 textos do IMDb. Neste casso, utilize os top250 textos. Utilizamos 100 para treinar e podemos utilizar os textos de 101 a 200 para testar. "
   ]
  }
 ],
 "metadata": {
  "kernelspec": {
   "display_name": "Python 3",
   "language": "python",
   "name": "python3"
  },
  "language_info": {
   "codemirror_mode": {
    "name": "ipython",
    "version": 3
   },
   "file_extension": ".py",
   "mimetype": "text/x-python",
   "name": "python",
   "nbconvert_exporter": "python",
   "pygments_lexer": "ipython3",
   "version": "3.6.0"
  }
 },
 "nbformat": 4,
 "nbformat_minor": 2
}
