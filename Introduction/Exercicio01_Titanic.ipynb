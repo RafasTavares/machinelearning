{
 "cells": [
  {
   "cell_type": "markdown",
   "metadata": {},
   "source": [
    "# Exercício 01 - Titanic\n",
    "\n",
    "Esse exercício tem como objetivo exercitar os conceitos básicos de dataset e de aprendizagem de máquina vistos no tutorial *HelloWorld* e prepara-lo para o que será abordado nas próximas aulas.\n",
    "\n",
    "No exercício vamos trabalhar com um outro clássico dataset de aprendizagem de máquina: sobreviventes do titanic. Este também é um problema de classificação que visa dado um conjunto de informações dos passageiros do titanic, pretende-se classifica-los em \"sobreviveu\" ou \"não sobreviveu\" ao naufrágio. \n",
    "\n",
    "A sua tarefa principal é pesquisar sobre o KNN no scikit learn e aplica-lo a este problema.\n",
    "\n",
    "A base não vem com o ScikitLearn e vamos precisar baixar e carrega-la para trabalhar neste exemplo.\n",
    "\n",
    "Para baixar e deixar a base pronta para uso segui o tutorial a seguir: \n",
    "\n",
    "http://nbviewer.jupyter.org/github/savarin/pyconuk-introtutorial/blob/master/notebooks/Section%201-0%20-%20First%20Cut.ipynb\n",
    "\n",
    "Como a base é da competição do Kaggle, não irei disponibiliza-la aqui. Para baixar os arquivos necessários, acesse: \n",
    "\n",
    "https://www.kaggle.com/c/titanic/data (é necessário fazer um cadastro no Kaggle)"
   ]
  },
  {
   "cell_type": "markdown",
   "metadata": {},
   "source": [
    "## Preparando a base de dados\n",
    "\n",
    "Esta etapa não é o foco do nosso exercício. Sendo assim, só irei reproduzir o passo a passo do link passado anteriormente."
   ]
  },
  {
   "cell_type": "code",
   "execution_count": 9,
   "metadata": {
    "collapsed": false
   },
   "outputs": [
    {
     "name": "stdout",
     "output_type": "stream",
     "text": [
      "Tabela Original\n"
     ]
    },
    {
     "data": {
      "text/html": [
       "<div>\n",
       "<table border=\"1\" class=\"dataframe\">\n",
       "  <thead>\n",
       "    <tr style=\"text-align: right;\">\n",
       "      <th></th>\n",
       "      <th>Survived</th>\n",
       "      <th>PassengerId</th>\n",
       "      <th>Pclass</th>\n",
       "      <th>Age</th>\n",
       "      <th>SibSp</th>\n",
       "      <th>Parch</th>\n",
       "      <th>Fare</th>\n",
       "      <th>Gender</th>\n",
       "      <th>Port</th>\n",
       "    </tr>\n",
       "  </thead>\n",
       "  <tbody>\n",
       "    <tr>\n",
       "      <th>0</th>\n",
       "      <td>0</td>\n",
       "      <td>1</td>\n",
       "      <td>3</td>\n",
       "      <td>22.0</td>\n",
       "      <td>1</td>\n",
       "      <td>0</td>\n",
       "      <td>7.2500</td>\n",
       "      <td>1</td>\n",
       "      <td>2</td>\n",
       "    </tr>\n",
       "    <tr>\n",
       "      <th>1</th>\n",
       "      <td>1</td>\n",
       "      <td>2</td>\n",
       "      <td>1</td>\n",
       "      <td>38.0</td>\n",
       "      <td>1</td>\n",
       "      <td>0</td>\n",
       "      <td>71.2833</td>\n",
       "      <td>0</td>\n",
       "      <td>1</td>\n",
       "    </tr>\n",
       "    <tr>\n",
       "      <th>2</th>\n",
       "      <td>1</td>\n",
       "      <td>3</td>\n",
       "      <td>3</td>\n",
       "      <td>26.0</td>\n",
       "      <td>0</td>\n",
       "      <td>0</td>\n",
       "      <td>7.9250</td>\n",
       "      <td>0</td>\n",
       "      <td>2</td>\n",
       "    </tr>\n",
       "    <tr>\n",
       "      <th>3</th>\n",
       "      <td>1</td>\n",
       "      <td>4</td>\n",
       "      <td>1</td>\n",
       "      <td>35.0</td>\n",
       "      <td>1</td>\n",
       "      <td>0</td>\n",
       "      <td>53.1000</td>\n",
       "      <td>0</td>\n",
       "      <td>2</td>\n",
       "    </tr>\n",
       "    <tr>\n",
       "      <th>4</th>\n",
       "      <td>0</td>\n",
       "      <td>5</td>\n",
       "      <td>3</td>\n",
       "      <td>35.0</td>\n",
       "      <td>0</td>\n",
       "      <td>0</td>\n",
       "      <td>8.0500</td>\n",
       "      <td>1</td>\n",
       "      <td>2</td>\n",
       "    </tr>\n",
       "  </tbody>\n",
       "</table>\n",
       "</div>"
      ],
      "text/plain": [
       "   Survived  PassengerId  Pclass   Age  SibSp  Parch     Fare  Gender  Port\n",
       "0         0            1       3  22.0      1      0   7.2500       1     2\n",
       "1         1            2       1  38.0      1      0  71.2833       0     1\n",
       "2         1            3       3  26.0      0      0   7.9250       0     2\n",
       "3         1            4       1  35.0      1      0  53.1000       0     2\n",
       "4         0            5       3  35.0      0      0   8.0500       1     2"
      ]
     },
     "execution_count": 9,
     "metadata": {},
     "output_type": "execute_result"
    }
   ],
   "source": [
    "import pandas as pd\n",
    "import numpy as np\n",
    "\n",
    "print(\"Tabela Original\")\n",
    "df.head()"
   ]
  },
  {
   "cell_type": "code",
   "execution_count": 10,
   "metadata": {
    "collapsed": false
   },
   "outputs": [
    {
     "name": "stdout",
     "output_type": "stream",
     "text": [
      "Tabela depois de processada\n"
     ]
    },
    {
     "data": {
      "text/html": [
       "<div>\n",
       "<table border=\"1\" class=\"dataframe\">\n",
       "  <thead>\n",
       "    <tr style=\"text-align: right;\">\n",
       "      <th></th>\n",
       "      <th>Survived</th>\n",
       "      <th>PassengerId</th>\n",
       "      <th>Pclass</th>\n",
       "      <th>Age</th>\n",
       "      <th>SibSp</th>\n",
       "      <th>Parch</th>\n",
       "      <th>Fare</th>\n",
       "      <th>Gender</th>\n",
       "      <th>Port</th>\n",
       "    </tr>\n",
       "  </thead>\n",
       "  <tbody>\n",
       "    <tr>\n",
       "      <th>0</th>\n",
       "      <td>0</td>\n",
       "      <td>1</td>\n",
       "      <td>3</td>\n",
       "      <td>22.0</td>\n",
       "      <td>1</td>\n",
       "      <td>0</td>\n",
       "      <td>7.2500</td>\n",
       "      <td>1</td>\n",
       "      <td>2</td>\n",
       "    </tr>\n",
       "    <tr>\n",
       "      <th>1</th>\n",
       "      <td>1</td>\n",
       "      <td>2</td>\n",
       "      <td>1</td>\n",
       "      <td>38.0</td>\n",
       "      <td>1</td>\n",
       "      <td>0</td>\n",
       "      <td>71.2833</td>\n",
       "      <td>0</td>\n",
       "      <td>1</td>\n",
       "    </tr>\n",
       "    <tr>\n",
       "      <th>2</th>\n",
       "      <td>1</td>\n",
       "      <td>3</td>\n",
       "      <td>3</td>\n",
       "      <td>26.0</td>\n",
       "      <td>0</td>\n",
       "      <td>0</td>\n",
       "      <td>7.9250</td>\n",
       "      <td>0</td>\n",
       "      <td>2</td>\n",
       "    </tr>\n",
       "    <tr>\n",
       "      <th>3</th>\n",
       "      <td>1</td>\n",
       "      <td>4</td>\n",
       "      <td>1</td>\n",
       "      <td>35.0</td>\n",
       "      <td>1</td>\n",
       "      <td>0</td>\n",
       "      <td>53.1000</td>\n",
       "      <td>0</td>\n",
       "      <td>2</td>\n",
       "    </tr>\n",
       "    <tr>\n",
       "      <th>4</th>\n",
       "      <td>0</td>\n",
       "      <td>5</td>\n",
       "      <td>3</td>\n",
       "      <td>35.0</td>\n",
       "      <td>0</td>\n",
       "      <td>0</td>\n",
       "      <td>8.0500</td>\n",
       "      <td>1</td>\n",
       "      <td>2</td>\n",
       "    </tr>\n",
       "  </tbody>\n",
       "</table>\n",
       "</div>"
      ],
      "text/plain": [
       "   Survived  PassengerId  Pclass   Age  SibSp  Parch     Fare  Gender  Port\n",
       "0         0            1       3  22.0      1      0   7.2500       1     2\n",
       "1         1            2       1  38.0      1      0  71.2833       0     1\n",
       "2         1            3       3  26.0      0      0   7.9250       0     2\n",
       "3         1            4       1  35.0      1      0  53.1000       0     2\n",
       "4         0            5       3  35.0      0      0   8.0500       1     2"
      ]
     },
     "execution_count": 10,
     "metadata": {},
     "output_type": "execute_result"
    }
   ],
   "source": [
    "df = pd.read_csv('../datasets/train.csv')\n",
    "df = df.drop(['Name', 'Ticket', 'Cabin'], axis=1)\n",
    "df = df.dropna()\n",
    "df['Gender'] = df['Sex'].map({'female': 0, 'male':1}).astype(int)\n",
    "df['Port'] = df['Embarked'].map({'C':1, 'S':2, 'Q':3}).astype(int)\n",
    "df = df.drop(['Sex', 'Embarked'], axis=1)\n",
    "cols = df.columns.tolist()\n",
    "cols = [cols[1]] + cols[0:1] + cols[2:]\n",
    "df = df[cols]\n",
    "\n",
    "\n",
    "print(\"Tabela depois de processada\")\n",
    "df.head()"
   ]
  },
  {
   "cell_type": "markdown",
   "metadata": {},
   "source": [
    "O mesmo processo deve ser feito com a base de teste."
   ]
  },
  {
   "cell_type": "code",
   "execution_count": 12,
   "metadata": {
    "collapsed": false
   },
   "outputs": [
    {
     "data": {
      "text/html": [
       "<div>\n",
       "<table border=\"1\" class=\"dataframe\">\n",
       "  <thead>\n",
       "    <tr style=\"text-align: right;\">\n",
       "      <th></th>\n",
       "      <th>PassengerId</th>\n",
       "      <th>Pclass</th>\n",
       "      <th>Age</th>\n",
       "      <th>SibSp</th>\n",
       "      <th>Parch</th>\n",
       "      <th>Fare</th>\n",
       "      <th>Gender</th>\n",
       "      <th>Port</th>\n",
       "    </tr>\n",
       "  </thead>\n",
       "  <tbody>\n",
       "    <tr>\n",
       "      <th>0</th>\n",
       "      <td>892</td>\n",
       "      <td>3</td>\n",
       "      <td>34.5</td>\n",
       "      <td>0</td>\n",
       "      <td>0</td>\n",
       "      <td>7.8292</td>\n",
       "      <td>1</td>\n",
       "      <td>3</td>\n",
       "    </tr>\n",
       "    <tr>\n",
       "      <th>1</th>\n",
       "      <td>893</td>\n",
       "      <td>3</td>\n",
       "      <td>47.0</td>\n",
       "      <td>1</td>\n",
       "      <td>0</td>\n",
       "      <td>7.0000</td>\n",
       "      <td>0</td>\n",
       "      <td>2</td>\n",
       "    </tr>\n",
       "    <tr>\n",
       "      <th>2</th>\n",
       "      <td>894</td>\n",
       "      <td>2</td>\n",
       "      <td>62.0</td>\n",
       "      <td>0</td>\n",
       "      <td>0</td>\n",
       "      <td>9.6875</td>\n",
       "      <td>1</td>\n",
       "      <td>3</td>\n",
       "    </tr>\n",
       "    <tr>\n",
       "      <th>3</th>\n",
       "      <td>895</td>\n",
       "      <td>3</td>\n",
       "      <td>27.0</td>\n",
       "      <td>0</td>\n",
       "      <td>0</td>\n",
       "      <td>8.6625</td>\n",
       "      <td>1</td>\n",
       "      <td>2</td>\n",
       "    </tr>\n",
       "    <tr>\n",
       "      <th>4</th>\n",
       "      <td>896</td>\n",
       "      <td>3</td>\n",
       "      <td>22.0</td>\n",
       "      <td>1</td>\n",
       "      <td>1</td>\n",
       "      <td>12.2875</td>\n",
       "      <td>0</td>\n",
       "      <td>2</td>\n",
       "    </tr>\n",
       "  </tbody>\n",
       "</table>\n",
       "</div>"
      ],
      "text/plain": [
       "   PassengerId  Pclass   Age  SibSp  Parch     Fare  Gender  Port\n",
       "0          892       3  34.5      0      0   7.8292       1     3\n",
       "1          893       3  47.0      1      0   7.0000       0     2\n",
       "2          894       2  62.0      0      0   9.6875       1     3\n",
       "3          895       3  27.0      0      0   8.6625       1     2\n",
       "4          896       3  22.0      1      1  12.2875       0     2"
      ]
     },
     "execution_count": 12,
     "metadata": {},
     "output_type": "execute_result"
    }
   ],
   "source": [
    "df_test = pd.read_csv('../datasets/test.csv')\n",
    "df_test = df_test.drop(['Name', 'Ticket', 'Cabin'], axis=1)\n",
    "df_test = df_test.dropna()\n",
    "df_test['Gender'] = df_test['Sex'].map({'female': 0, 'male':1})\n",
    "df_test['Port'] = df_test['Embarked'].map({'C':1, 'S':2, 'Q':3})\n",
    "df_test = df_test.drop(['Sex', 'Embarked'], axis=1)\n",
    "\n",
    "df_test.head()"
   ]
  },
  {
   "cell_type": "markdown",
   "metadata": {},
   "source": [
    "Por fim, geramos nossa base de treino e teste no formato para o ScikitLearn"
   ]
  },
  {
   "cell_type": "code",
   "execution_count": 22,
   "metadata": {
    "collapsed": false
   },
   "outputs": [],
   "source": [
    "dataset = {\n",
    "    'data': df.values[0:,2:],\n",
    "    'target': df.values[0:,0]\n",
    "}"
   ]
  },
  {
   "cell_type": "code",
   "execution_count": 23,
   "metadata": {
    "collapsed": false
   },
   "outputs": [
    {
     "name": "stdout",
     "output_type": "stream",
     "text": [
      "[[  3.      22.       1.     ...,   7.25     1.       2.    ]\n",
      " [  1.      38.       1.     ...,  71.2833   0.       1.    ]\n",
      " [  3.      26.       0.     ...,   7.925    0.       2.    ]\n",
      " ..., \n",
      " [  1.      19.       0.     ...,  30.       0.       2.    ]\n",
      " [  1.      26.       0.     ...,  30.       1.       1.    ]\n",
      " [  3.      32.       0.     ...,   7.75     1.       3.    ]]\n"
     ]
    }
   ],
   "source": [
    "print(dataset['data'])"
   ]
  },
  {
   "cell_type": "code",
   "execution_count": 24,
   "metadata": {
    "collapsed": false
   },
   "outputs": [
    {
     "name": "stdout",
     "output_type": "stream",
     "text": [
      "[ 0.  1.  1.  1.  0.  0.  0.  1.  1.  1.  1.  0.  0.  0.  1.  0.  0.  0.\n",
      "  1.  1.  1.  0.  1.  0.  0.  0.  0.  0.  0.  0.  1.  0.  0.  1.  1.  0.\n",
      "  0.  0.  1.  1.  0.  1.  0.  1.  0.  0.  0.  0.  1.  0.  1.  0.  0.  0.\n",
      "  0.  0.  1.  0.  1.  1.  0.  1.  0.  1.  1.  0.  1.  0.  0.  0.  0.  0.\n",
      "  0.  0.  1.  1.  0.  0.  0.  0.  0.  0.  1.  0.  0.  0.  0.  0.  0.  0.\n",
      "  0.  0.  0.  0.  0.  0.  1.  0.  1.  1.  0.  0.  0.  0.  1.  0.  0.  1.\n",
      "  0.  0.  0.  1.  1.  0.  0.  0.  1.  0.  0.  0.  0.  1.  0.  0.  0.  1.\n",
      "  0.  0.  1.  0.  0.  0.  1.  0.  0.  0.  0.  1.  0.  0.  0.  0.  0.  0.\n",
      "  0.  1.  1.  1.  0.  0.  1.  0.  1.  1.  1.  1.  0.  0.  0.  0.  0.  1.\n",
      "  0.  0.  1.  1.  1.  0.  1.  0.  0.  1.  1.  0.  1.  0.  1.  0.  0.  1.\n",
      "  0.  1.  0.  0.  1.  0.  0.  1.  0.  0.  1.  0.  0.  0.  0.  0.  0.  0.\n",
      "  1.  1.  0.  0.  0.  0.  0.  1.  1.  1.  1.  1.  0.  0.  0.  0.  1.  1.\n",
      "  1.  1.  1.  0.  1.  0.  0.  1.  0.  0.  0.  1.  0.  1.  0.  1.  1.  1.\n",
      "  1.  0.  0.  0.  0.  0.  1.  0.  1.  1.  0.  1.  1.  1.  0.  0.  0.  1.\n",
      "  1.  0.  1.  1.  0.  0.  1.  1.  1.  0.  1.  1.  1.  0.  0.  0.  0.  1.\n",
      "  1.  0.  1.  1.  0.  0.  0.  1.  1.  1.  0.  0.  0.  0.  0.  1.  0.  0.\n",
      "  0.  0.  0.  0.  1.  1.  1.  0.  0.  0.  0.  1.  0.  0.  0.  1.  1.  0.\n",
      "  1.  0.  0.  1.  1.  1.  1.  0.  1.  1.  0.  0.  0.  0.  1.  1.  0.  0.\n",
      "  0.  0.  0.  0.  1.  0.  1.  1.  1.  1.  0.  0.  0.  0.  0.  0.  1.  1.\n",
      "  1.  1.  1.  0.  0.  1.  0.  1.  0.  0.  1.  0.  0.  1.  1.  1.  1.  1.\n",
      "  1.  0.  0.  1.  1.  0.  1.  1.  0.  0.  0.  0.  0.  1.  0.  1.  1.  0.\n",
      "  0.  0.  0.  1.  0.  0.  1.  1.  1.  0.  0.  1.  0.  0.  0.  0.  1.  0.\n",
      "  0.  0.  0.  0.  1.  0.  1.  0.  1.  1.  1.  1.  0.  0.  1.  1.  0.  1.\n",
      "  0.  1.  0.  1.  0.  0.  1.  0.  0.  1.  0.  1.  1.  1.  0.  0.  1.  0.\n",
      "  0.  1.  0.  1.  1.  0.  1.  1.  0.  1.  1.  1.  0.  0.  0.  0.  0.  1.\n",
      "  1.  1.  1.  0.  0.  1.  1.  1.  1.  1.  0.  0.  1.  0.  1.  0.  0.  1.\n",
      "  0.  0.  0.  0.  1.  1.  0.  1.  0.  0.  1.  1.  1.  0.  0.  1.  0.  0.\n",
      "  1.  0.  0.  1.  1.  0.  0.  0.  0.  1.  0.  1.  0.  1.  0.  1.  0.  0.\n",
      "  0.  0.  1.  0.  1.  1.  0.  1.  1.  1.  0.  0.  0.  0.  0.  0.  1.  0.\n",
      "  0.  0.  1.  0.  0.  0.  1.  0.  0.  1.  0.  0.  1.  0.  1.  1.  0.  0.\n",
      "  0.  0.  0.  0.  0.  1.  1.  1.  0.  0.  0.  0.  0.  0.  1.  1.  0.  0.\n",
      "  0.  0.  1.  1.  1.  1.  1.  0.  0.  0.  1.  1.  0.  1.  0.  0.  0.  1.\n",
      "  0.  1.  0.  0.  1.  0.  0.  0.  0.  0.  1.  0.  1.  0.  1.  0.  0.  1.\n",
      "  0.  0.  1.  1.  0.  0.  1.  1.  0.  0.  0.  1.  0.  1.  1.  0.  1.  0.\n",
      "  0.  0.  0.  0.  1.  0.  1.  1.  1.  1.  0.  0.  0.  1.  0.  1.  0.  0.\n",
      "  0.  0.  1.  1.  0.  0.  0.  1.  1.  1.  1.  0.  0.  0.  0.  1.  0.  0.\n",
      "  0.  0.  0.  0.  0.  0.  0.  1.  1.  0.  1.  0.  1.  1.  1.  0.  0.  1.\n",
      "  0.  1.  0.  0.  1.  0.  0.  0.  0.  0.  0.  0.  0.  1.  0.  1.  1.  1.\n",
      "  1.  0.  0.  1.  0.  1.  1.  0.  1.  0.  1.  0.  0.  1.  1.  0.  0.  1.\n",
      "  1.  0.  0.  0.  0.  0.  0.  1.  1.  0.]\n"
     ]
    }
   ],
   "source": [
    "print(dataset['target'])"
   ]
  },
  {
   "cell_type": "code",
   "execution_count": 25,
   "metadata": {
    "collapsed": true
   },
   "outputs": [],
   "source": [
    "X = dataset['data']\n",
    "Y = dataset['target']"
   ]
  },
  {
   "cell_type": "markdown",
   "metadata": {},
   "source": [
    "## Tarefas\n",
    "\n",
    "Como o propósito desse exercício não é submeter para o Kaggle, vamos ter que criar nossa própria base de testes. A base de teste disponibilizada pelo kaggle não vem com o gabarito, logo não poderíamos utilizar o aprendizado supervisionado.\n",
    "\n",
    "Sendo assim, as tarefas deste exercício são:\n",
    "\n",
    "1. Separe sua base em treino e teste. Para o teste use 10% da base original. \n",
    "2. Aplique o algoritmo de Árvore de Decisão visto no *HelloWorld* e calcule a acurácia na base de teste\n",
    "3. Pesquise sobre o KNN e aplique-o sobre a mesma base de dados e calcule a acurácia"
   ]
  }
 ],
 "metadata": {
  "kernelspec": {
   "display_name": "Python 3",
   "language": "python",
   "name": "python3"
  },
  "language_info": {
   "codemirror_mode": {
    "name": "ipython",
    "version": 3
   },
   "file_extension": ".py",
   "mimetype": "text/x-python",
   "name": "python",
   "nbconvert_exporter": "python",
   "pygments_lexer": "ipython3",
   "version": "3.6.0"
  }
 },
 "nbformat": 4,
 "nbformat_minor": 2
}
