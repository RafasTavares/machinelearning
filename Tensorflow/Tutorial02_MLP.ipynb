{
 "cells": [
  {
   "cell_type": "markdown",
   "metadata": {
    "deletable": true,
    "editable": true
   },
   "source": [
    "# Tutorial 2 - MLP\n",
    "\n",
    "O objetivo final deste tutorial é mostrar como podemos implementar uma MLP (*Multilayer Perceptron*) no Tensorflow. No entanto, para ajudar a entender um pouco como funciona o Tensorflow vamos implementar primeiro uma rede mais simples (a Perceptron, que possui uma camada apenas) e, em seguida, iremos implementar a MLP. \n",
    "\n",
    "A implementção é baseada no Cap. 3 do livro do [Redes Neurais Artificiais Para Engenharia e Ciências Aplicadas](https://artliber.com.br/index.php?route=product/product&product_id=77) do professor Ivan Nunes e no tutorial [Elementary Neural Networks with TensorFlow](https://medium.com/@jaschaephraim/elementary-neural-networks-with-tensorflow-c2593ad3d60b#.40xi9im8s)."
   ]
  },
  {
   "cell_type": "markdown",
   "metadata": {
    "deletable": true,
    "editable": true
   },
   "source": [
    "## Rede Perceptron\n",
    "\n",
    "A rede perceptron é a forma mais simples de configuração de uma rede neural artificial. A arquitetura da rede se aproxima daquela que foi apresentada no problema de regressão linear do Tutorial 1. \n",
    "\n",
    "A imagem a seguir mostra a arquitetura da rede perceptron. \n",
    "\n",
    "<img src=\"https://www.embarcados.com.br/wp-content/uploads/2016/09/Perceptron-01.png\" width=\"50%\" />\n",
    "\n"
   ]
  },
  {
   "cell_type": "markdown",
   "metadata": {},
   "source": [
    "A rede é construída a partir de $n$ sinais de entrada e uma única saída, já que ela possui somente um neurônio. Mais detalhes de como a rede perceptron funciona, pode ser encontrado no vídeo a seguir:"
   ]
  },
  {
   "cell_type": "code",
   "execution_count": 1,
   "metadata": {
    "collapsed": false
   },
   "outputs": [
    {
     "data": {
      "image/jpeg": "[encoded data removed]",
      "text/plain": [
       "<IPython.lib.display.YouTubeVideo at 0x103a33390>"
      ]
     },
     "metadata": {}
    }
   ],
   "source": [
    "from IPython.display import YouTubeVideo\n",
    "YouTubeVideo('pkAKtL9FvFI')"
   ]
  },
  {
   "cell_type": "markdown",
   "metadata": {
    "deletable": true,
    "editable": true
   },
   "source": [
    "A rede perceptron é utilizada em problemas que são ditos linearmente separáveis. Entende-se por esse tipo de problema aqueles que são compostos por dados que podem ser separados por uma função linear. Para isso, vamos criar um conjunto de dados que possuem tal característica. Como o propósito é só mostrar o funcionamento da rede, vamos criar um conjunto de dados sem nenhum próposito específico.\n",
    "\n",
    "Os dados de entrada são constituídos de várias instâncias contendo duas variáveis cada ($x_1$ e $x_2$) e cada instância é classificada em 0 ou 1. Sendo assim, a tarefa da rede é aprender um modelo que seja capaz de separar estas duas classes. O código a seguir cria os dados e os exibem em um gráfico. "
   ]
  },
  {
   "cell_type": "code",
   "execution_count": 2,
   "metadata": {
    "collapsed": false,
    "deletable": true,
    "editable": true
   },
   "outputs": [
    {
     "data": {
      "image/png": "[encoded data removed]",
      "text/plain": [
       "<matplotlib.figure.Figure at 0x1044402e8>"
      ]
     },
     "metadata": {},
     "output_type": "display_data"
    }
   ],
   "source": [
    "import numpy as np\n",
    "import matplotlib.pyplot as plt\n",
    "\n",
    "\n",
    "#Criando os dados de entrada (x = features e y = classes)\n",
    "x_train = np.array([[2., 2.],[1., 3.],[2., 3.],[5., 3.],[7., 3.],[2., 4.],[3., 4.],[6., 4.],\n",
    "                    [1., 5.],[2., .5],[5., 5.],[4., 6.],[6., 6.],[5., 7.]],dtype=\"float32\")\n",
    "y_train = np.array([[0., 0., 0., 1., 1., 0., 0., 1., 0., 0., 1., 1., 1., 1.]], dtype=\"float32\")\n",
    "\n",
    "#Mostrando o Gráfico\n",
    "A = x_train[:, 0]\n",
    "B = x_train[:, 1]\n",
    "\n",
    "colormap = np.array(['r', 'k'])\n",
    "\n",
    "# Plot the original data\n",
    "plt.scatter(A, B, c=colormap[[0, 0, 0, 1, 1, 0, 0, 1, 0, 0, 1, 1, 1, 1]], s=40)\n",
    "\n",
    "plt.ylim([0,8]) # Limit the y axis size\n",
    "plt.show()"
   ]
  },
  {
   "cell_type": "markdown",
   "metadata": {
    "deletable": true,
    "editable": true
   },
   "source": [
    "O próximo passo é criar a seguinte rede no Tensorflow.\n",
    "\n",
    "<img src=\"https://www.embarcados.com.br/wp-content/uploads/2016/09/Perceptron-01.png\" width=\"50%\" />"
   ]
  },
  {
   "cell_type": "markdown",
   "metadata": {
    "deletable": true,
    "editable": true
   },
   "source": [
    "Observe que a rede é composta por um conjunto de sinais de entrada ($x_{train} = [x_1, x_2, ..., x_n]$). Cada sinal é poderado por um peso w, dado por $weights = [w_1, w_2, ..., w_3]$ e somado por um limiar de ativação ($\\theta$). Sendo assim, o neurônio é representado pela seguinte operação: \n",
    "\n",
    "$u = \\sum_{i=1}^{n}{w_i*x_i} + bias$\n",
    "\n",
    "O valor inicial do $bias$ é dado por $-\\theta$. Neste exemplo, $\\theta = 1$.\n",
    "\n",
    "O valor de $u$ é entrada para uma função de ativação ($g$) gerando o sinal de saída $y=g(u)$.\n",
    "\n",
    "Nesse exemplo, a função de ativação é dada por: \n",
    "\n",
    "$g(u) = 1$, se $u >= 0$\n",
    "\n",
    "$g(u) = 0$, se $u < 0$\n",
    "\n",
    "O código a seguir implementa esse modelo. Mais detalhes são dados nos comentários do código."
   ]
  },
  {
   "cell_type": "code",
   "execution_count": 3,
   "metadata": {
    "collapsed": true,
    "deletable": true,
    "editable": true
   },
   "outputs": [],
   "source": [
    "# imports necessários\n",
    "\n",
    "import tensorflow as tf"
   ]
  },
  {
   "cell_type": "code",
   "execution_count": 4,
   "metadata": {
    "collapsed": true,
    "deletable": true,
    "editable": true
   },
   "outputs": [],
   "source": [
    "# Função de ativação\n",
    "def output(u):\n",
    "    is_greater = tf.greater(u, 0)\n",
    "    as_float = tf.to_float(is_greater)\n",
    "    return as_float"
   ]
  },
  {
   "cell_type": "code",
   "execution_count": 5,
   "metadata": {
    "collapsed": true,
    "deletable": true,
    "editable": true
   },
   "outputs": [],
   "source": [
    "'''\n",
    "Criação do array que representa o limiar. O limiar é inicializado com -1. Neste caso, o limiar representa um vetor \n",
    "14x1, ou seja, é atribuído um limiar para cada valor de entrada (no caso, 14).\n",
    "'''\n",
    "limiar_array = np.ones([14,1], dtype=\"float32\")*(-1)\n",
    "limiar = tf.Variable(limiar_array, name=\"limiar\")\n",
    "\n",
    "'''\n",
    "Criação da variável com pesos. Como estamos trabalhando com dois valores de entrada por instância, os pesos são \n",
    "instanciados por um vetor 2x1\n",
    "'''\n",
    "weights = tf.Variable(tf.random_normal([2,1]), name=\"pesos\")\n",
    "\n",
    "# Placeholders para feed dos dados de entrada e saída\n",
    "X = tf.placeholder(tf.float32, x_train.shape)\n",
    "Y = tf.placeholder(tf.float32, y_train.shape)\n",
    "\n",
    "# Modelo criado \n",
    "u = tf.matmul(x_train,weights) + limiar\n",
    "\n",
    "# Aplicação da função de ativação\n",
    "output_value = output(u)"
   ]
  },
  {
   "cell_type": "markdown",
   "metadata": {
    "deletable": true,
    "editable": true
   },
   "source": [
    "Modelo criado. A próxima etapa é definir como nosso modelo será treinado. \n",
    "\n",
    "Este problema é uma tarefa de classificação. Cada instância vai ser classificada como 0 ou 1 de acordo com a classe que pertence. Sendo assim, o primeiro passo é comparar a saída com a classificação da base de treinamento. Para isso foi calculado o erro da seguinte forma:\n",
    "\n",
    "$mse = \\sum_{i = 1}^{N}{(y_i - output_i)^2}$\n",
    "\n",
    "O objetivo do treinamento é reduzir esse erro. Isso é dado pelo código a seguir:"
   ]
  },
  {
   "cell_type": "code",
   "execution_count": 6,
   "metadata": {
    "collapsed": true,
    "deletable": true,
    "editable": true
   },
   "outputs": [],
   "source": [
    "error = tf.subtract(y_train.T, output_value)\n",
    "mse = tf.reduce_sum(tf.square(error))"
   ]
  },
  {
   "cell_type": "markdown",
   "metadata": {
    "deletable": true,
    "editable": true
   },
   "source": [
    "Um outro passo do treinamento é a atualização dos valores dos pesos e do limiar. Esses parâmetros são atualizados segundo fórmula descrita no livro do Ivan Nunes. \n",
    "\n",
    "$w_{i}^{atual} = w_{i}^{anterior} + \\eta (d^{(k)} - y).x_{i}^{(k)}$\n",
    "\n",
    "$\\theta_{i}^{atual} = \\theta_{i}^{anterior} + \\eta (d^{(k)} - y).(-1)$\n",
    "\n",
    "onde:\n",
    "\n",
    "$d^{(k)}$ é o valor desejado e $y$, o valor de saída produzido pela perceptron. Essa diferença é representada pelo que chamamos de erro no código anterior. $\\eta$ é uma constante que define a taxa de aprendizagem da rede (no código, vamos referenciar $\\eta$ por *learning_rate*)."
   ]
  },
  {
   "cell_type": "code",
   "execution_count": 7,
   "metadata": {
    "collapsed": true,
    "deletable": true,
    "editable": true
   },
   "outputs": [],
   "source": [
    "learning_rate = 0.001\n",
    "\n",
    "delta_w = tf.matmul(x_train, learning_rate*error, transpose_a=True)\n",
    "delta_limiar = tf.matmul(limiar, learning_rate*error, transpose_a=True)\n",
    "\n",
    "train_w = tf.assign(weights, tf.add(weights, delta_w))\n",
    "train_limiar = tf.assign(limiar, tf.add(limiar, delta_limiar))"
   ]
  },
  {
   "cell_type": "markdown",
   "metadata": {
    "deletable": true,
    "editable": true
   },
   "source": [
    "Uma vez que criamos o modelo, vamos executar as operações para treina-lo."
   ]
  },
  {
   "cell_type": "code",
   "execution_count": 8,
   "metadata": {
    "collapsed": false,
    "deletable": true,
    "editable": true,
    "scrolled": true
   },
   "outputs": [
    {
     "name": "stdout",
     "output_type": "stream",
     "text": [
      "Weights\n",
      "[[ 0.24686992]\n",
      " [ 0.03673019]]\n",
      "Limiar -0.894671\n"
     ]
    }
   ],
   "source": [
    "init_op = tf.global_variables_initializer()\n",
    "\n",
    "sess = tf.Session()\n",
    "\n",
    "sess.run(init_op)\n",
    "\n",
    "for step in range(5000):\n",
    "    _, _, a, b, c = sess.run([train_w, train_limiar, mse, weights, limiar], feed_dict={X: x_train, Y: y_train})\n",
    "    \n",
    "print(\"Weights\")\n",
    "print(b)\n",
    "print(\"Limiar\", c[0][0])"
   ]
  },
  {
   "cell_type": "markdown",
   "metadata": {
    "deletable": true,
    "editable": true
   },
   "source": [
    "O código a seguir apenas cria a função determinada pelos pesos e limiar achados pela rede e plota essa reta no gráfico dos dados mostrado anteriormente."
   ]
  },
  {
   "cell_type": "code",
   "execution_count": 9,
   "metadata": {
    "collapsed": false,
    "deletable": true,
    "editable": true
   },
   "outputs": [
    {
     "data": {
      "image/png": "[encoded data removed]",
      "text/plain": [
       "<matplotlib.figure.Figure at 0x10cf869e8>"
      ]
     },
     "metadata": {},
     "output_type": "display_data"
    }
   ],
   "source": [
    "#Graphic display\n",
    "import matplotlib.pyplot as plt\n",
    "\n",
    "A = x_train[:, 0]\n",
    "B = x_train[:, 1]\n",
    "\n",
    "colormap = np.array(['r', 'k'])\n",
    "\n",
    "# Plot the original data\n",
    "plt.scatter(A, B, c=colormap[[0, 0, 0, 1, 1, 0, 0, 1, 0, 0, 1, 1, 1, 1]], s=40)\n",
    "\n",
    "ymin, ymax = plt.ylim()\n",
    "\n",
    "# Calc the hyperplane (decision boundary)\n",
    "ymin, ymax = plt.ylim()\n",
    "w = b\n",
    "a = -w[0] / w[1]\n",
    "xx = np.linspace(ymin, ymax)\n",
    "yy = a * xx - (c[0,0]) / w[1]\n",
    " \n",
    "# Plot the hyperplane\n",
    "plt.plot(xx,yy, 'k-')\n",
    "plt.ylim([0,8]) # Limit the y axis size\n",
    "plt.show()"
   ]
  },
  {
   "cell_type": "markdown",
   "metadata": {
    "deletable": true,
    "editable": true
   },
   "source": [
    "# Multilayer Perceptron\n",
    "\n",
    "Uma rede perceptron multicamadas (*Multilayer Perceptron - MLP*) é caracterizada pela presença de pelo menos uma camada intermediária (escondida ou *hidden layer*) de neurônios, situada entre a camada de entrada e a respectiva camada neural de saída. Sendo assim, as MLP possuem pelo menos duas camadas de nurônios, o quais estarão distribuídos entre as camadas intermediárias e a camada de saída. \n",
    "\n",
    "A figura a seguir ilustra este modelo.\n",
    "\n",
    "<img src=\"https://elogeel.files.wordpress.com/2010/05/050510_1627_multilayerp1.png\" />"
   ]
  },
  {
   "cell_type": "markdown",
   "metadata": {
    "deletable": true,
    "editable": true
   },
   "source": [
    "Detalhes deste modelo podem ser encontrados no [capítulo 6](http://www.deeplearningbook.org/contents/mlp.html) do [Deep Learning Book](http://www.deeplearningbook.org). Uma outra boa referência é o livro [Redes Neurais Artificiais Para Engenharia e Ciências Aplicadas](https://artliber.com.br/index.php?route=product/product&product_id=77) do professor Ivan Nunes. O tema é abordado no capítulo 5."
   ]
  },
  {
   "cell_type": "markdown",
   "metadata": {
    "deletable": true,
    "editable": true
   },
   "source": [
    "Para mostrar este modelo vamos utilizar o exemplo disponível em [neste link](http://www.jessicayung.com/explaining-tensorflow-code-for-a-multilayer-perceptron/) com a base do MNIST para treinar o modelo criado.\n",
    "\n",
    "Antes de começar a entrar em detalhes da rede, vamos baixar a base do MNIST que será utilizada. O MNIST é um dataset de dígitos escritos a mão. A tarefa consiste em dada uma imagem que representa um dígito escrito à mão classifica-la de acordo com o dígito que foi escrito. Detalhes da base podem ser encontrados [neste link](http://yann.lecun.com/exdb/mnist/). Por ser uma base bastante utilizada, a API do tensorflow já possui a base em um pacote do framework."
   ]
  },
  {
   "cell_type": "code",
   "execution_count": 10,
   "metadata": {
    "collapsed": false,
    "deletable": true,
    "editable": true
   },
   "outputs": [
    {
     "name": "stdout",
     "output_type": "stream",
     "text": [
      "Extracting dataset/MNIST/train-images-idx3-ubyte.gz\n",
      "Extracting dataset/MNIST/train-labels-idx1-ubyte.gz\n",
      "Extracting dataset/MNIST/t10k-images-idx3-ubyte.gz\n",
      "Extracting dataset/MNIST/t10k-labels-idx1-ubyte.gz\n"
     ]
    }
   ],
   "source": [
    "# Carregando a base. Se a base não existir a pasta \"dataset/MNIST\" será criada e a base salva nesta pasta.\n",
    "\n",
    "from tensorflow.examples.tutorials.mnist import input_data\n",
    "mnist = input_data.read_data_sets(\"dataset/MNIST\", one_hot=True)"
   ]
  },
  {
   "cell_type": "markdown",
   "metadata": {
    "deletable": true,
    "editable": true
   },
   "source": [
    "Cada imagem do dataset possui o tamanho de 28x28 e representa um dígito escrito à mão. A imagem a seguir ilustra uma instância da base:\n",
    "\n",
    "<img src=\"https://www.tensorflow.org/images/MNIST-Matrix.png\" width=\"70%\" />\n",
    "\n",
    "As imagens vão ser transformadas em um vetor de 784 posições ($28*28$). A entrada da rede são vários vetores deste tipo. Cada vetor vai representar uma imagem. A saída da rede é definida por um vetor de 10 posições, onde cada posição representa uma possível classe do dígito (a base do MNIST trabalha com dígitos de 0 a 9).\n",
    "\n",
    "Se considerarmos que a base de treinamento possui 55000 imagens, as imagens a seguir representam a entrada e saída da rede, respectivamente:\n",
    "\n",
    "<img src=\"https://www.tensorflow.org/images/mnist-train-xs.png\" width=\"50%\" />\n",
    "<img src=\"https://www.tensorflow.org/images/mnist-train-ys.png\" width=\"50%\"/>\n",
    "\n",
    "A diferença desta representação para o modelo que será implementado aqui é que o nosso modelo será alimentado por *batch*. Uma breve explicação do que é *batch* no tensorflow pode ser encontrado [neste link](http://stackoverflow.com/questions/41175401/what-is-a-batch-in-tensorflow). Vamos utilizar um batch de 100. "
   ]
  },
  {
   "cell_type": "markdown",
   "metadata": {
    "deletable": true,
    "editable": true
   },
   "source": [
    "Explicações dadas, vamos para o modelo que será implementado.\n",
    "\n",
    "Jessica Yung em seu tutorial [Explaining TensorFlow code for a Multilayer Perceptron](http://www.jessicayung.com/explaining-tensorflow-code-for-a-multilayer-perceptron/) faz uma imagem bem representativa do modelo que será implementado: \n",
    "\n",
    "<img src=\"http://i0.wp.com/www.jessicayung.com/wp-content/uploads/2016/12/multilayer-perceptron-drawing.png\" />"
   ]
  },
  {
   "cell_type": "markdown",
   "metadata": {
    "deletable": true,
    "editable": true
   },
   "source": [
    "Uma questão importante no entendimento (e, consequentemente, na implementação) de qualquer modelo de rede neural é entender as dimensões dos dados ao passar por cada camada. A imagem anterior deixa isso bem claro. Por isso, vamos analisar camada por camada para que possamos entender como essas dimensões são modificadas. Na imagem, h1 e h2 são a quantidade de neurônios nas camadas intermediárias. A quantidade de neurônios de uma camada é que indica a dimensão da saída daquela camada. Outra informação importante é o tamanho do *batch* (já explicado anteriormente).\n",
    "\n",
    "Com o batch igual a 100, a rede está recebendo como entrada uma matriz de 100x784, onde 784 é quantidade de pixel de cada imagem. Sendo assim, cada linha dessa matriz representa uma imagem da base de treinamento. Isso é passado para a primeira camada, onde será aplicada a seguinte operação $xW_1 + b_1$ onde, $W_1$ são os pesos de entrada e $b_1$, o *bias*. A imagem a seguir detalha esta operação juntamente com suas dimensões: \n",
    "\n",
    "<img src=\"http://adolfo.data2learning.com/ludiico/images/mlp_dimensions1.png\" width=\"70%\" />\n",
    "\n",
    "A saída da primeira camada é uma matriz 100x256, ou seja, 100 que representa a quantidade de instâncias que foram passadas na entrada e 256, a quantidade de neurônios. Ou seja, cada neurônio processou cada imagem e deu como resultado uma representação própria da entrada poderada pela operação definida. Ao resultado será aplicada uma função de ativação do tipo *RELU* (acesse o [tutorial da Jessica Yung](http://www.jessicayung.com/explaining-tensorflow-code-for-a-multilayer-perceptron/) para ver detalhes do funcionamento deste tipo de função).\n",
    "\n",
    "A entrada da segunda rede é uma matriz 100x256 (saída da camada anterior). As operações e dimensões da segunda camada são detalhadas na imagem a seguir:\n",
    "\n",
    "<img src=\"http://adolfo.data2learning.com/ludiico/images/mlp_dimensions2.png\" width=\"70%\" />\n",
    "\n",
    "Assim, como na primeira camada, a saída é uma matriz 100x256 que será aplicada uma função de atividação do tipo *RELU*. A camada de saída recebe os dados da segunda e gera como saída uma vetor que represente as 10 classes. Nesse caso, a saída será de 100x10, por conta do *batch*. Em outras palavras, estamos gerando um vetor que pesa cada possível classe para cada uma das 100 instâncias passadas como entrada. A imagem ilustra as operações e dimensões da camada de saída.\n",
    "\n",
    "<img src=\"http://adolfo.data2learning.com/ludiico/images/mlp_dimensions3.png\" width=\"70%\" />\n",
    "\n",
    "À saída da rede é aplicada a função Softmax que transforma os valores dos vetores em probabilidades. A posição que possuir o maior valor de probabilidade representa a classe à qual o dígito pertence. \n",
    "\n",
    "Uma rápida explicação de como funciona a softmax pode ser encontrada no vídeo a seguir:"
   ]
  },
  {
   "cell_type": "code",
   "execution_count": 11,
   "metadata": {
    "collapsed": false
   },
   "outputs": [
    {
     "data": {
      "image/jpeg": "[encoded data removed]",
      "text/plain": [
       "<IPython.lib.display.YouTubeVideo at 0x10cfe7860>"
      ]
     },
     "metadata": {}
    }
   ],
   "source": [
    "YouTubeVideo('G8eNWzxOgqE')"
   ]
  },
  {
   "cell_type": "markdown",
   "metadata": {
    "deletable": true,
    "editable": true
   },
   "source": [
    "Explicado o modelo, vamos para o código."
   ]
  },
  {
   "cell_type": "code",
   "execution_count": 12,
   "metadata": {
    "collapsed": true,
    "deletable": true,
    "editable": true
   },
   "outputs": [],
   "source": [
    "# Imports necessários\n",
    "\n",
    "import tensorflow as tf"
   ]
  },
  {
   "cell_type": "code",
   "execution_count": 13,
   "metadata": {
    "collapsed": true,
    "deletable": true,
    "editable": true
   },
   "outputs": [],
   "source": [
    "#Definição de parâmetros\n",
    "learning_rate = 0.001\n",
    "training_epochs = 15\n",
    "batch_size = 100\n",
    "display_step = 1\n",
    "\n",
    "\n",
    "#Parâmetros da rede\n",
    "n_hidden_1 = 256 # Quantidade de features da primeira camada escondida \n",
    "n_hidden_2 = 256 # Quantidade de features da segunda camada escondida\n",
    "n_input = 784 # Dados de entrada no MNIST (28 * 28 = 784 (quantidade de pixels da imagem))\n",
    "n_classes = 10 # Número total de classes no MNIST (dígitos de 0-9)\n",
    "\n",
    "# Instanciação dos Input do Grafo no Tensorflow \n",
    "\n",
    "x = tf.placeholder(tf.float32, [None, n_input]) # Irá armazenar os dados de entrada\n",
    "y = tf.placeholder(tf.float32, [None, n_classes]) #Irá armazenar os dados de saída"
   ]
  },
  {
   "cell_type": "markdown",
   "metadata": {
    "deletable": true,
    "editable": true
   },
   "source": [
    "O modelo é implementado dentro da função *multilayer_perceptron*. Na função criamos cada camada de acordo com os dados passados. É muito importante que as dimensões das variáveis passadas tenham sido definidas corretamente."
   ]
  },
  {
   "cell_type": "code",
   "execution_count": 14,
   "metadata": {
    "collapsed": false,
    "deletable": true,
    "editable": true
   },
   "outputs": [],
   "source": [
    "def multilayer_perceptron(x, weights, biases):\n",
    "    \n",
    "    # Primeira camada como função de ativação RELU\n",
    "    \n",
    "    layer_1 = tf.add(tf.matmul(x, weights['h1']), biases['b1'])\n",
    "    layer_1 = tf.nn.relu(layer_1)\n",
    "    \n",
    "    # Segunda camada com funç!ao de ativação RELU\n",
    "    \n",
    "    layer_2 = tf.add(tf.matmul(layer_1, weights['h2']), biases['b2'])\n",
    "    layer_2 = tf.nn.relu(layer_2)\n",
    "    \n",
    "    #Camada de Saída\n",
    "    out_layer = tf.matmul(layer_2, weights['out']) + biases['out']\n",
    "    \n",
    "    return out_layer"
   ]
  },
  {
   "cell_type": "markdown",
   "metadata": {
    "deletable": true,
    "editable": true
   },
   "source": [
    "Os pesos e bias utilizados serão armazenados em dois dicionários: weights e biases."
   ]
  },
  {
   "cell_type": "code",
   "execution_count": 15,
   "metadata": {
    "collapsed": true,
    "deletable": true,
    "editable": true
   },
   "outputs": [],
   "source": [
    "weights = {\n",
    "    'h1': tf.Variable(tf.random_normal([n_input, n_hidden_1])),\n",
    "    'h2': tf.Variable(tf.random_normal([n_hidden_1, n_hidden_2])),\n",
    "    'out': tf.Variable(tf.random_normal([n_hidden_2, n_classes]))\n",
    "}\n",
    "biases = {\n",
    "    'b1': tf.Variable(tf.random_normal([n_hidden_1])),\n",
    "    'b2': tf.Variable(tf.random_normal([n_hidden_2])),\n",
    "    'out': tf.Variable(tf.random_normal([n_classes]))\n",
    "}"
   ]
  },
  {
   "cell_type": "markdown",
   "metadata": {
    "deletable": true,
    "editable": true
   },
   "source": [
    "Construindo o modelo:"
   ]
  },
  {
   "cell_type": "code",
   "execution_count": 16,
   "metadata": {
    "collapsed": true,
    "deletable": true,
    "editable": true
   },
   "outputs": [],
   "source": [
    "pred = multilayer_perceptron(x, weights, biases)"
   ]
  },
  {
   "cell_type": "markdown",
   "metadata": {
    "deletable": true,
    "editable": true
   },
   "source": [
    "Uma vez que o modelo foi criado, podemos treina-lo. O primeiro passo é definir como vai ser calculado o custo da solução e, em seguida, o método que será utilizado para otimizar o modelo. Três métodos são importantes nesta etapa:\n",
    "\n",
    "* [tf.nn.sofmax_cross_entropy_with_logits](https://www.tensorflow.org/api_docs/python/tf/nn/softmax_cross_entropy_with_logits)\n",
    "* [tf.reduce_mean](https://www.tensorflow.org/api_docs/python/tf/reduce_mean)\n",
    "* [tf.train.AdamOptimizer](https://www.tensorflow.org/api_docs/python/tf/train/AdamOptimizer)\n",
    "\n",
    "Detalhes destes métodos podem ser encontrados nos links de cada método. Basicamente, a rede será executada e à saída será aplicada a função softmax para transformar a saída em um vetor de probabilidades. A posição do vetor com maior valor de probabilidade corresponde à classe que a entrada é classificada. Esse resultado é comparado com o resultado esperado em *y* (aprendizado supervisionado) e o custo é calculado. O treinamento será executado com o objetivo de minimizar este custo, ou seja, reduzir a taxa de erro."
   ]
  },
  {
   "cell_type": "code",
   "execution_count": 17,
   "metadata": {
    "collapsed": true,
    "deletable": true,
    "editable": true
   },
   "outputs": [],
   "source": [
    "cost = tf.reduce_mean(tf.nn.softmax_cross_entropy_with_logits(logits=pred, labels=y))\n",
    "optimizer = tf.train.AdamOptimizer(learning_rate=learning_rate).minimize(cost)"
   ]
  },
  {
   "cell_type": "markdown",
   "metadata": {
    "deletable": true,
    "editable": true
   },
   "source": [
    "O código a seguir executa a etapa de treinamento. Detalhes são dados ao decorrer do código."
   ]
  },
  {
   "cell_type": "code",
   "execution_count": 18,
   "metadata": {
    "collapsed": false,
    "deletable": true,
    "editable": true
   },
   "outputs": [
    {
     "name": "stdout",
     "output_type": "stream",
     "text": [
      "Epoch: 0001 cost= 157.725429967\n",
      "Epoch: 0002 cost= 40.376680419\n",
      "Epoch: 0003 cost= 25.320531252\n",
      "Epoch: 0004 cost= 17.790744989\n",
      "Epoch: 0005 cost= 12.857540343\n",
      "Epoch: 0006 cost= 9.480761866\n",
      "Epoch: 0007 cost= 7.152568298\n",
      "Epoch: 0008 cost= 5.300936262\n",
      "Epoch: 0009 cost= 3.905300876\n",
      "Epoch: 0010 cost= 2.940291073\n",
      "Epoch: 0011 cost= 2.288513719\n",
      "Epoch: 0012 cost= 1.727777079\n",
      "Epoch: 0013 cost= 1.293939837\n",
      "Epoch: 0014 cost= 0.945999347\n",
      "Epoch: 0015 cost= 0.827342668\n",
      "Fim do treinamento\n",
      "Acurácia: 0.9416\n"
     ]
    }
   ],
   "source": [
    "# Inicializa as variáveis\n",
    "init = tf.global_variables_initializer()\n",
    "\n",
    "# Executa o grafo que representa o modelo construído\n",
    "with tf.Session() as sess:\n",
    "    sess.run(init)\n",
    "\n",
    "    '''\n",
    "    O ciclo de treinamento é chamado de épocas. Em cada época uma quantidade de dados de entrada (batch) é passada\n",
    "    como entrada para a rede. Ao final de cada época, os parâmetros são atualizados de acordo com o treinamento e novos\n",
    "    dados são dados como entrada.\n",
    "    '''\n",
    "    for epoch in range(training_epochs):\n",
    "        \n",
    "        avg_cost = 0. #Armazena a média do custo calculado\n",
    "        \n",
    "        total_batch = int(mnist.train.num_examples/batch_size) # Define o total de épocas: total da base / # batch\n",
    "        \n",
    "        # Loop por cada batch\n",
    "        for i in range(total_batch):\n",
    "            batch_x, batch_y = mnist.train.next_batch(batch_size)\n",
    "            \n",
    "            # Executa as operações de otimização dos parâmetros (backprop) and custo (retorna o valor de erro)\n",
    "            _, c = sess.run([optimizer, cost], feed_dict={x: batch_x, y: batch_y})\n",
    "            \n",
    "            # Calcula a média do erro\n",
    "            avg_cost += c / total_batch\n",
    "            \n",
    "        # Display logs per epoch step\n",
    "        if epoch % display_step == 0:\n",
    "            print(\"Epoch:\", '%04d' % (epoch+1), \"cost=\", \"{:.9f}\".format(avg_cost))\n",
    "            \n",
    "    print(\"Fim do treinamento\")\n",
    "    \n",
    "    # Testa o modelo\n",
    "    correct_prediction = tf.equal(tf.argmax(pred, 1), tf.argmax(y, 1))\n",
    "\n",
    "    # Calcula a acurácia\n",
    "    accuracy = tf.reduce_mean(tf.cast(correct_prediction, \"float\"))\n",
    "    print(\"Acurácia:\", accuracy.eval({x: mnist.test.images, y: mnist.test.labels}))"
   ]
  },
  {
   "cell_type": "markdown",
   "metadata": {
    "deletable": true,
    "editable": true
   },
   "source": [
    "## Base do noMNIST\n",
    "\n",
    "A tarefa resolvida anteriormente é relativamente simples, já que a base é bem simples e já foi pré-processada com um próposito bem específico. Pensando nisso é que foi criada uma outra base (**noMNIST**) para o mesmo propósito: classificar dígitos, neste caso dígitos de A-Z. Apessar de parecer com o clássico dataset do MNIST, ele envolve uma tarefa mais complicada e os dados estão \"menos limpos\" do que os dados do [MNIST](http://yann.lecun.com/exdb/mnist/). Para mais detalhes, acesse o link: http://yaroslavvb.blogspot.com/2011/09/notmnist-dataset.html.\n",
    "\n",
    "O primeiro passo é baixar o dataset. Detalhes de como baixa-lo estão disponíveis em: \n",
    "https://github.com/tensorflow/tensorflow/blob/master/tensorflow/examples/udacity/1_notmnist.ipynb \n",
    "\n",
    "Neste tutorial, assumimos que o dataset já foi baixado na pasta **dataset/**."
   ]
  },
  {
   "cell_type": "code",
   "execution_count": 19,
   "metadata": {
    "collapsed": true,
    "deletable": true,
    "editable": true
   },
   "outputs": [],
   "source": [
    "# Imports necessários\n",
    "from __future__ import print_function\n",
    "import numpy as np\n",
    "import tensorflow as tf\n",
    "from six.moves import cPickle as pickle\n",
    "from six.moves import range"
   ]
  },
  {
   "cell_type": "code",
   "execution_count": 21,
   "metadata": {
    "collapsed": false,
    "deletable": true,
    "editable": true
   },
   "outputs": [
    {
     "name": "stdout",
     "output_type": "stream",
     "text": [
      "Training set (200000, 28, 28) (200000,)\n",
      "Validation set (10000, 28, 28) (10000,)\n",
      "Test set (10000, 28, 28) (10000,)\n"
     ]
    }
   ],
   "source": [
    "#Carrega a base de dados \n",
    "pickle_file = 'dataset/notMNIST.pickle'\n",
    "\n",
    "with open(pickle_file, 'rb') as f:\n",
    "    save = pickle.load(f)\n",
    "    train_dataset = save['train_dataset']\n",
    "    train_labels = save['train_labels']\n",
    "    valid_dataset = save['valid_dataset']\n",
    "    valid_labels = save['valid_labels']\n",
    "    test_dataset = save['test_dataset']\n",
    "    test_labels = save['test_labels']\n",
    "    del save  # hint to help gc free up memory\n",
    "    print('Training set', train_dataset.shape, train_labels.shape)\n",
    "    print('Validation set', valid_dataset.shape, valid_labels.shape)\n",
    "    print('Test set', test_dataset.shape, test_labels.shape)"
   ]
  },
  {
   "cell_type": "code",
   "execution_count": 22,
   "metadata": {
    "collapsed": false,
    "deletable": true,
    "editable": true
   },
   "outputs": [
    {
     "name": "stdout",
     "output_type": "stream",
     "text": [
      "Training set (200000, 784) (200000, 10)\n",
      "Validation set (10000, 784) (10000, 10)\n",
      "Test set (10000, 784) (10000, 10)\n"
     ]
    }
   ],
   "source": [
    "# Formata os dados para as dimensões apropriadas (784)\n",
    "\n",
    "image_size = 28\n",
    "num_labels = 10\n",
    "\n",
    "def reformat(dataset, labels):\n",
    "    dataset = dataset.reshape((-1, image_size * image_size)).astype(np.float32)\n",
    "    # Map 0 to [1.0, 0.0, 0.0 ...], 1 to [0.0, 1.0, 0.0 ...]\n",
    "    labels = (np.arange(num_labels) == labels[:,None]).astype(np.float32)\n",
    "    return dataset, labels\n",
    "\n",
    "train_dataset, train_labels = reformat(train_dataset, train_labels)\n",
    "valid_dataset, valid_labels = reformat(valid_dataset, valid_labels)\n",
    "test_dataset, test_labels = reformat(test_dataset, test_labels)\n",
    "print('Training set', train_dataset.shape, train_labels.shape)\n",
    "print('Validation set', valid_dataset.shape, valid_labels.shape)\n",
    "print('Test set', test_dataset.shape, test_labels.shape)"
   ]
  },
  {
   "cell_type": "markdown",
   "metadata": {
    "deletable": true,
    "editable": true
   },
   "source": [
    "Vamos utilizar o mesmo método definido anteriormente: **multilayer_perceptron** que recebe como parâmetro os dados de entrada e as variáveis para armazenar os bias e weights."
   ]
  },
  {
   "cell_type": "code",
   "execution_count": 23,
   "metadata": {
    "collapsed": false,
    "deletable": true,
    "editable": true
   },
   "outputs": [],
   "source": [
    "weights = {\n",
    "    'h1': tf.Variable(tf.random_normal([n_input, n_hidden_1])),\n",
    "    'h2': tf.Variable(tf.random_normal([n_hidden_1, n_hidden_2])),\n",
    "    'out': tf.Variable(tf.random_normal([n_hidden_2, n_classes]))\n",
    "}\n",
    "biases = {\n",
    "    'b1': tf.Variable(tf.random_normal([n_hidden_1])),\n",
    "    'b2': tf.Variable(tf.random_normal([n_hidden_2])),\n",
    "    'out': tf.Variable(tf.random_normal([n_classes]))\n",
    "}\n",
    "\n",
    "train_dataset = train_dataset[:10000, :]\n",
    "train_labels = train_labels[:10000]\n",
    "\n",
    "new_pred = multilayer_perceptron(train_dataset, weights, biases)"
   ]
  },
  {
   "cell_type": "code",
   "execution_count": 24,
   "metadata": {
    "collapsed": false,
    "deletable": true,
    "editable": true
   },
   "outputs": [],
   "source": [
    "cost = tf.reduce_mean(tf.nn.softmax_cross_entropy_with_logits(logits=new_pred, labels=train_labels))\n",
    "optimizer = tf.train.AdamOptimizer(learning_rate=learning_rate).minimize(cost)"
   ]
  },
  {
   "cell_type": "markdown",
   "metadata": {},
   "source": [
    "O passo seguinte é treinar o modelo. Observe que diferente do exemplo anterior, neste exemplo vamos trabalhar com a base de treinamento para treinar os dados, a base de validação para testar o modelo ao longo das iterações e ao final testa-lo na base de teste."
   ]
  },
  {
   "cell_type": "code",
   "execution_count": 25,
   "metadata": {
    "collapsed": false,
    "deletable": true,
    "editable": true
   },
   "outputs": [
    {
     "name": "stdout",
     "output_type": "stream",
     "text": [
      "Epoch: 0001 cost= 459.844535675\n",
      "\tAcurácia Treinamento: 0.7454\n",
      "\tAcurácia Validação: 0.6934\n",
      "Epoch: 0002 cost= 131.960025024\n",
      "\tAcurácia Treinamento: 0.8222\n",
      "\tAcurácia Validação: 0.7173\n",
      "Epoch: 0003 cost= 64.530110779\n",
      "\tAcurácia Treinamento: 0.8878\n",
      "\tAcurácia Validação: 0.7241\n",
      "Epoch: 0004 cost= 29.856194401\n",
      "\tAcurácia Treinamento: 0.9324\n",
      "\tAcurácia Validação: 0.7197\n",
      "Epoch: 0005 cost= 12.424535551\n",
      "\tAcurácia Treinamento: 0.9677\n",
      "\tAcurácia Validação: 0.7165\n",
      "Epoch: 0006 cost= 4.536465459\n",
      "\tAcurácia Treinamento: 0.9837\n",
      "\tAcurácia Validação: 0.7184\n",
      "Epoch: 0007 cost= 1.587553128\n",
      "\tAcurácia Treinamento: 0.9657\n",
      "\tAcurácia Validação: 0.7192\n",
      "Epoch: 0008 cost= 0.659993879\n",
      "\tAcurácia Treinamento: 0.9959\n",
      "\tAcurácia Validação: 0.7192\n",
      "Epoch: 0009 cost= 0.337804031\n",
      "\tAcurácia Treinamento: 0.9956\n",
      "\tAcurácia Validação: 0.721\n",
      "Epoch: 0010 cost= 0.166149430\n",
      "\tAcurácia Treinamento: 0.9965\n",
      "\tAcurácia Validação: 0.7228\n",
      "Epoch: 0011 cost= 0.229731394\n",
      "\tAcurácia Treinamento: 0.9973\n",
      "\tAcurácia Validação: 0.7228\n",
      "Epoch: 0012 cost= 0.163499728\n",
      "\tAcurácia Treinamento: 0.9961\n",
      "\tAcurácia Validação: 0.7232\n",
      "Epoch: 0013 cost= 0.148778478\n",
      "\tAcurácia Treinamento: 0.996\n",
      "\tAcurácia Validação: 0.7242\n",
      "Epoch: 0014 cost= 0.156884601\n",
      "\tAcurácia Treinamento: 0.9864\n",
      "\tAcurácia Validação: 0.7242\n",
      "Epoch: 0015 cost= 0.184444492\n",
      "\tAcurácia Treinamento: 0.9977\n",
      "\tAcurácia Validação: 0.7252\n",
      "Epoch: 0016 cost= 0.132651188\n",
      "\tAcurácia Treinamento: 0.9981\n",
      "\tAcurácia Validação: 0.7242\n",
      "Epoch: 0017 cost= 0.152578590\n",
      "\tAcurácia Treinamento: 0.9965\n",
      "\tAcurácia Validação: 0.7265\n",
      "Epoch: 0018 cost= 0.196217427\n",
      "\tAcurácia Treinamento: 0.9983\n",
      "\tAcurácia Validação: 0.7252\n",
      "Epoch: 0019 cost= 0.207342000\n",
      "\tAcurácia Treinamento: 0.9985\n",
      "\tAcurácia Validação: 0.7258\n",
      "Epoch: 0020 cost= 0.238043206\n",
      "\tAcurácia Treinamento: 0.9984\n",
      "\tAcurácia Validação: 0.7265\n",
      "Epoch: 0021 cost= 0.145109498\n",
      "\tAcurácia Treinamento: 0.9983\n",
      "\tAcurácia Validação: 0.727\n",
      "Epoch: 0022 cost= 0.232290360\n",
      "\tAcurácia Treinamento: 0.9979\n",
      "\tAcurácia Validação: 0.7266\n",
      "Epoch: 0023 cost= 0.200632530\n",
      "\tAcurácia Treinamento: 0.9978\n",
      "\tAcurácia Validação: 0.7267\n",
      "Epoch: 0024 cost= 0.189921766\n",
      "\tAcurácia Treinamento: 0.9937\n",
      "\tAcurácia Validação: 0.729\n",
      "Epoch: 0025 cost= 0.260261539\n",
      "\tAcurácia Treinamento: 0.9983\n",
      "\tAcurácia Validação: 0.7291\n",
      "Epoch: 0026 cost= 0.252652875\n",
      "\tAcurácia Treinamento: 0.9978\n",
      "\tAcurácia Validação: 0.7272\n",
      "Epoch: 0027 cost= 0.166147781\n",
      "\tAcurácia Treinamento: 0.998\n",
      "\tAcurácia Validação: 0.7267\n",
      "Epoch: 0028 cost= 0.248801760\n",
      "\tAcurácia Treinamento: 0.997\n",
      "\tAcurácia Validação: 0.7274\n",
      "Epoch: 0029 cost= 0.215698629\n",
      "\tAcurácia Treinamento: 0.996\n",
      "\tAcurácia Validação: 0.7308\n",
      "Epoch: 0030 cost= 0.286964614\n",
      "\tAcurácia Treinamento: 0.9985\n",
      "\tAcurácia Validação: 0.7306\n",
      "Fim do treinamento\n",
      "Acurácia: 0.806\n"
     ]
    }
   ],
   "source": [
    "# Inicializa as variáveis\n",
    "\n",
    "training_epochs = 30\n",
    "\n",
    "init = tf.global_variables_initializer()\n",
    "\n",
    "# Executa o grafo que representa o modelo construído\n",
    "with tf.Session() as sess:\n",
    "    sess.run(init)\n",
    "\n",
    "    '''\n",
    "    O ciclo de treinamento é chamado de épocas. Em cada época uma quantidade de dados de entrada (batch) é passada\n",
    "    como entrada para a rede. Ao final de cada época, os parâmetros são atualizados de acordo com o treinamento e novos\n",
    "    dados são dados como entrada.\n",
    "    '''\n",
    "    for epoch in range(training_epochs):\n",
    "        \n",
    "        avg_cost = 0. #Armazena a média do custo calculado\n",
    "        \n",
    "        total_batch = int(train_dataset.shape[0]/batch_size) # Define o total de épocas: total da base / # batch\n",
    "        \n",
    "        # Loop por cada batch\n",
    "        for i in range(total_batch):\n",
    "            \n",
    "            offset = (i * batch_size) % (train_labels.shape[0] - batch_size)\n",
    "            \n",
    "            batch_x = train_dataset[offset:(offset+batch_size), :]\n",
    "            batch_y = train_labels[offset:(offset+batch_size), :]\n",
    "            \n",
    "            # Executa as operações de otimização dos parâmetros (backprop) and custo (retorna o valor de erro)\n",
    "            _, c, prediction = sess.run([optimizer, cost, new_pred], feed_dict={x: batch_x, y: batch_y})\n",
    "            \n",
    "            # Calcula a média do erro\n",
    "            avg_cost += c / total_batch\n",
    "            \n",
    "        # Display logs per epoch step\n",
    "        if epoch % display_step == 0:\n",
    "            print(\"Epoch:\", '%04d' % (epoch+1), \"cost=\", \"{:.9f}\".format(avg_cost))\n",
    "            \n",
    "            # Acurácia de Treinamento\n",
    "            correct_prediction = tf.equal(tf.argmax(prediction, 1), tf.argmax(train_labels, 1))\n",
    "            accuracy = tf.reduce_mean(tf.cast(correct_prediction, \"float\"))\n",
    "            print(\"\\tAcurácia Treinamento:\", accuracy.eval({x: train_dataset, y: train_labels}))\n",
    "            \n",
    "            # Acurácia de Validação\n",
    "            \n",
    "            valid_prediction = multilayer_perceptron(valid_dataset, weights, biases)\n",
    "            correct_valid_prediction = tf.equal(tf.argmax(valid_prediction, 1), tf.argmax(valid_labels, 1))\n",
    "            accuracy_valid = tf.reduce_mean(tf.cast(correct_valid_prediction, \"float\"))\n",
    "            print(\"\\tAcurácia Validação:\", accuracy_valid.eval({x: valid_dataset, y: valid_labels}))\n",
    "            \n",
    "            \n",
    "    print(\"Fim do treinamento\")\n",
    "    \n",
    "    # Testa o modelo\n",
    "    test_prediction = multilayer_perceptron(test_dataset, weights, biases)\n",
    "    correct_test_prediction = tf.equal(tf.argmax(test_prediction, 1), tf.argmax(test_labels, 1))\n",
    "    accuracy_test = tf.reduce_mean(tf.cast(correct_test_prediction, \"float\"))\n",
    "    print(\"Acurácia:\", accuracy_test.eval({x: test_dataset, y: test_labels}))"
   ]
  }
 ],
 "metadata": {
  "kernelspec": {
   "display_name": "Python 3",
   "language": "python",
   "name": "python3"
  },
  "language_info": {
   "codemirror_mode": {
    "name": "ipython",
    "version": 3.0
   },
   "file_extension": ".py",
   "mimetype": "text/x-python",
   "name": "python",
   "nbconvert_exporter": "python",
   "pygments_lexer": "ipython3",
   "version": "3.6.0"
  }
 },
 "nbformat": 4,
 "nbformat_minor": 0
}