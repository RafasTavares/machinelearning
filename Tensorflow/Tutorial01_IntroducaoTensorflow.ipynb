{
 "cells": [
  {
   "cell_type": "markdown",
   "metadata": {
    "deletable": true,
    "editable": true
   },
   "source": [
    "# Tutorial 1\n",
    "\n",
    "Esse tutorial tem como objetivo explorar os conceitos básicos do Tensorflow. Detalhes de como instalar o TensorFlow podem ser encontrados em: https://www.tensorflow.org/. \n",
    "\n",
    "Os seguintes links serviram de referência para este material:\n",
    "\n",
    "* [Tutorial do Tensorflow](https://www.tensorflow.org/get_started/mnist/beginners)\n",
    "* [Curso básico do Tensorflow](https://drive.google.com/drive/mobile/folders/0B41Zbb4c8HVyMHlSQlVFWWphNXc)\n",
    "* [TensorFlow Examples](https://github.com/aymericdamien/TensorFlow-Examples)"
   ]
  },
  {
   "cell_type": "markdown",
   "metadata": {
    "deletable": true,
    "editable": true
   },
   "source": [
    "O código a seguir permite verificar se o tensorflow foi instalado corretamente. Ele simplesmente imprime a versão que foi instalada (no caso, 1.0.0). Vale destacar que estou utilizando a versão 3.6 do Python."
   ]
  },
  {
   "cell_type": "code",
   "execution_count": 1,
   "metadata": {
    "collapsed": false,
    "deletable": true,
    "editable": true
   },
   "outputs": [
    {
     "data": {
      "text/plain": [
       "'1.0.0'"
      ]
     },
     "execution_count": 1,
     "metadata": {},
     "output_type": "execute_result"
    }
   ],
   "source": [
    "import tensorflow as tf\n",
    "tf.__version__"
   ]
  },
  {
   "cell_type": "markdown",
   "metadata": {
    "deletable": true,
    "editable": true
   },
   "source": [
    " Para entender um pouco do funcionamento do tensorflow, vamos criar a \"rede\" a seguir: \n",
    " \n",
    " <img src=\"http://adolfo.data2learning.com/ludiico/images/diagrama1.png\" />"
   ]
  },
  {
   "cell_type": "code",
   "execution_count": 2,
   "metadata": {
    "collapsed": true,
    "deletable": true,
    "editable": true
   },
   "outputs": [],
   "source": [
    "#Criando os nós:\n",
    "\n",
    "node1 = tf.constant(3.0, tf.float32) #Cria o nó \"a\" com o valor 3 do tipo float\n",
    "node2 = tf.constant(4.0) # Cria o nó \"b\" com o valor 4 (implicitamente ele também é do tipo float)\n",
    "node3 = tf.add(node1, node2) # Cria o nó raiz aplicando as operações de soma nos nós a e b"
   ]
  },
  {
   "cell_type": "code",
   "execution_count": 3,
   "metadata": {
    "collapsed": false,
    "deletable": true,
    "editable": true
   },
   "outputs": [
    {
     "name": "stdout",
     "output_type": "stream",
     "text": [
      "node1: Tensor(\"Const:0\", shape=(), dtype=float32) node2: Tensor(\"Const_1:0\", shape=(), dtype=float32)\n",
      "node3: Tensor(\"Add:0\", shape=(), dtype=float32)\n"
     ]
    }
   ],
   "source": [
    "print(\"node1:\", node1, \"node2:\", node2)\n",
    "print(\"node3:\", node3)"
   ]
  },
  {
   "cell_type": "code",
   "execution_count": 4,
   "metadata": {
    "collapsed": false,
    "deletable": true,
    "editable": true
   },
   "outputs": [
    {
     "data": {
      "text/plain": [
       "7.0"
      ]
     },
     "execution_count": 4,
     "metadata": {},
     "output_type": "execute_result"
    }
   ],
   "source": [
    "#Vamos criar uma seção do TensorFlow para executar as operações necessárias:\n",
    "\n",
    "sess = tf.Session()\n",
    "sess.run(node3)"
   ]
  },
  {
   "cell_type": "markdown",
   "metadata": {
    "deletable": true,
    "editable": true
   },
   "source": [
    "O workflow de trabalho com o tensorflow pode ser dividio em 3 partes:\n",
    " \n",
    "* Construção do grafo utilizando as operações do Tensorflow **In[3]**\n",
    "* Alimentar com os dados e executar as operações do grafo (*sess.run(op)*) **In[6]**\n",
    "* Atualizar as variáveis do grafo (e retornar os valores de saída) **In[6]**"
   ]
  },
  {
   "cell_type": "markdown",
   "metadata": {
    "deletable": true,
    "editable": true
   },
   "source": [
    "Na primeira solução, criamos o grafo já com os valores pré-definidos. No entanto, é interessante que esses valores sejam alimentados com os valores de entrada. Para isso, vamos criar os **placeholder**. Detalhes sobre **feed** e **placeholder** podem ser encontrados em: https://www.tensorflow.org/programmers_guide/reading_data#feeding"
   ]
  },
  {
   "cell_type": "code",
   "execution_count": 5,
   "metadata": {
    "collapsed": false,
    "deletable": true,
    "editable": true
   },
   "outputs": [
    {
     "name": "stdout",
     "output_type": "stream",
     "text": [
      "7.0\n"
     ]
    }
   ],
   "source": [
    "a = tf.placeholder(tf.float32)\n",
    "b = tf.placeholder(tf.float32)\n",
    "\n",
    "adder_node = a + b # esse comando tem a mesma função de tf.add(node1, node2) do exemplo anterior\n",
    "\n",
    "print(sess.run(adder_node, feed_dict={a: 3, b: 4}))"
   ]
  },
  {
   "cell_type": "code",
   "execution_count": 6,
   "metadata": {
    "collapsed": false,
    "deletable": true,
    "editable": true
   },
   "outputs": [
    {
     "name": "stdout",
     "output_type": "stream",
     "text": [
      "[ 3.  7.]\n"
     ]
    }
   ],
   "source": [
    "print(sess.run(adder_node, feed_dict={a: [1, 3], b:[2, 4]}))"
   ]
  },
  {
   "cell_type": "markdown",
   "metadata": {
    "deletable": true,
    "editable": true
   },
   "source": [
    "Um outro conceito básico importante é o conceito de **Variáveis** no Tensorflow. Quando criamos um modelo, as veriáveis são utilizadas para manter e atualizar os parâmetros deste modelo. Detalhes sobre variáveis podem ser encontrados em: https://www.tensorflow.org/programmers_guide/variables\n",
    "\n",
    "O exemplo a seguir, mostra brevemente como seria o uso de váriaveis no código. "
   ]
  },
  {
   "cell_type": "code",
   "execution_count": 7,
   "metadata": {
    "collapsed": false,
    "deletable": true,
    "editable": true
   },
   "outputs": [],
   "source": [
    "# Cria as variáveis \n",
    "\n",
    "weights = tf.Variable(tf.random_normal([784, 200], stddev=0.35), name=\"weights\")\n",
    "biases = tf.Variable(tf.zeros([200]), name=\"biases\")\n",
    "\n",
    "# Adiciona um operação que inicializa as variáveis que serão utilizadas no modelo \n",
    "init_op = tf.global_variables_initializer()\n",
    "\n",
    "# Quando for rodar o modelo, executa a inicialização das operações\n",
    "\n",
    "with tf.Session() as sess:\n",
    "    sess.run(init_op)\n",
    "    # ... \n",
    "    # Use the model \n",
    "    # ..."
   ]
  },
  {
   "cell_type": "markdown",
   "metadata": {
    "deletable": true,
    "editable": true
   },
   "source": [
    "Outro conceito importante é o conceito de **Tensor**. No tensorflow tudo é Tensor (*Everything is Tensor*). Você pode imaginar o **Tensor** como sendo um array n-dimensional ou uma lista. Um tensor possui um tipo estático e a dimensão é determinada de forma dinâmica. Uma observação importante é que apenas *tensors* podem ser passados entre os nós de um grafo no tensorflow. Dealhes podem ser encontrados em: https://www.tensorflow.org/programmers_guide/dims_types"
   ]
  },
  {
   "cell_type": "markdown",
   "metadata": {
    "deletable": true,
    "editable": true
   },
   "source": [
    "Para ilustrar esses componentes, vamos criar o modelo de regressão linear utilizando o tensorflow:\n",
    "\n",
    "* Hypothesis\n",
    "\n",
    "$H(x) = Wx + b$\n",
    "\n",
    "* Const function\n",
    "\n",
    "$cost(W, b) = \\frac{1}{m}\\sum_{i=1}^{m}(H(x^{(i)})-y^{(i)})^2$\n",
    "\n",
    "* Gradient descent algorithm (treinamento)"
   ]
  },
  {
   "cell_type": "code",
   "execution_count": 8,
   "metadata": {
    "collapsed": true,
    "deletable": true,
    "editable": true
   },
   "outputs": [],
   "source": [
    "# Cosntruindo o grafo utilizando operações do Tensorflow\n",
    "\n",
    "# Dados de entrada\n",
    "\n",
    "x_train = [1, 2, 3]\n",
    "y_train = [1, 2, 3]\n",
    "\n",
    "# Criando a operação da Hypothesis\n",
    "\n",
    "W = tf.Variable(tf.random_normal([1]), name=\"weight\")\n",
    "b = tf.Variable(tf.random_normal([1]), name=\"bias\")\n",
    "\n",
    "# XW + b\n",
    "\n",
    "hypothesis = x_train * W + b"
   ]
  },
  {
   "cell_type": "code",
   "execution_count": 9,
   "metadata": {
    "collapsed": true,
    "deletable": true,
    "editable": true
   },
   "outputs": [],
   "source": [
    "# cost function\n",
    "\n",
    "cost = tf.reduce_mean(tf.square(hypothesis - y_train))"
   ]
  },
  {
   "cell_type": "code",
   "execution_count": 10,
   "metadata": {
    "collapsed": true,
    "deletable": true,
    "editable": true
   },
   "outputs": [],
   "source": [
    "# Gradient Descent\n",
    "\n",
    "optimizer = tf.train.GradientDescentOptimizer(learning_rate=0.01)\n",
    "train = optimizer.minimize(cost)"
   ]
  },
  {
   "cell_type": "markdown",
   "metadata": {
    "deletable": true,
    "editable": true
   },
   "source": [
    "Uma vez que o modelo foi criado, o próximo passo é executar, atualizar o grafo e pegar o resultado final. "
   ]
  },
  {
   "cell_type": "code",
   "execution_count": 11,
   "metadata": {
    "collapsed": false,
    "deletable": true,
    "editable": true
   },
   "outputs": [
    {
     "name": "stdout",
     "output_type": "stream",
     "text": [
      "0 12.6063 [-0.8084482] [ 0.38796654]\n",
      "20 0.241132 [ 0.45362398] [ 0.88753384]\n",
      "40 0.117379 [ 0.59138256] [ 0.89512765]\n",
      "60 0.105685 [ 0.62125826] [ 0.85775471]\n",
      "80 0.0959761 [ 0.64007396] [ 0.81789047]\n",
      "100 0.0871669 [ 0.6570859] [ 0.77949518]\n",
      "120 0.0791664 [ 0.67321074] [ 0.74286598]\n",
      "140 0.0719002 [ 0.68856955] [ 0.70795435]\n",
      "160 0.0653009 [ 0.70320576] [ 0.67468315]\n",
      "180 0.0593073 [ 0.71715397] [ 0.64297551]\n",
      "200 0.0538639 [ 0.7304467] [ 0.6127581]\n",
      "220 0.04892 [ 0.74311477] [ 0.58396059]\n",
      "240 0.0444299 [ 0.75518733] [ 0.55651665]\n",
      "260 0.040352 [ 0.7666927] [ 0.53036243]\n",
      "280 0.0366483 [ 0.77765733] [ 0.50543731]\n",
      "300 0.0332846 [ 0.7881065] [ 0.4816837]\n",
      "320 0.0302296 [ 0.79806477] [ 0.45904633]\n",
      "340 0.027455 [ 0.80755496] [ 0.43747288]\n",
      "360 0.0249351 [ 0.81659919] [ 0.41691321]\n",
      "380 0.0226464 [ 0.82521826] [ 0.39731982]\n",
      "400 0.0205679 [ 0.83343238] [ 0.3786473]\n",
      "420 0.01868 [ 0.84126055] [ 0.36085227]\n",
      "440 0.0169655 [ 0.84872067] [ 0.34389353]\n",
      "460 0.0154084 [ 0.85583025] [ 0.32773176]\n",
      "480 0.0139941 [ 0.86260569] [ 0.31232956]\n",
      "500 0.0127097 [ 0.86906272] [ 0.29765126]\n",
      "520 0.0115431 [ 0.87521631] [ 0.28366274]\n",
      "540 0.0104837 [ 0.88108069] [ 0.27033156]\n",
      "560 0.00952142 [ 0.88666946] [ 0.25762698]\n",
      "580 0.00864751 [ 0.89199561] [ 0.2455194]\n",
      "600 0.00785381 [ 0.89707136] [ 0.23398086]\n",
      "620 0.00713295 [ 0.9019087] [ 0.22298464]\n",
      "640 0.00647826 [ 0.90651858] [ 0.21250519]\n",
      "660 0.00588367 [ 0.91091186] [ 0.20251825]\n",
      "680 0.00534364 [ 0.91509867] [ 0.19300067]\n",
      "700 0.00485318 [ 0.91908878] [ 0.18393037]\n",
      "720 0.00440773 [ 0.92289126] [ 0.17528629]\n",
      "740 0.00400318 [ 0.92651504] [ 0.16704851]\n",
      "760 0.00363575 [ 0.92996854] [ 0.15919788]\n",
      "780 0.00330204 [ 0.93325979] [ 0.15171614]\n",
      "800 0.00299897 [ 0.9363963] [ 0.14458603]\n",
      "820 0.00272371 [ 0.93938541] [ 0.13779108]\n",
      "840 0.00247372 [ 0.9422341] [ 0.13131544]\n",
      "860 0.00224667 [ 0.94494891] [ 0.12514412]\n",
      "880 0.00204047 [ 0.94753605] [ 0.1192628]\n",
      "900 0.00185318 [ 0.95000178] [ 0.11365785]\n",
      "920 0.00168309 [ 0.95235145] [ 0.10831633]\n",
      "940 0.00152861 [ 0.9545908] [ 0.10322587]\n",
      "960 0.00138831 [ 0.95672482] [ 0.09837465]\n",
      "980 0.00126089 [ 0.95875853] [ 0.09375143]\n",
      "1000 0.00114515 [ 0.96069682] [ 0.08934546]\n",
      "1020 0.00104005 [ 0.9625439] [ 0.08514654]\n",
      "1040 0.000944586 [ 0.96430427] [ 0.08114494]\n",
      "1060 0.000857888 [ 0.96598178] [ 0.07733143]\n",
      "1080 0.000779148 [ 0.96758056] [ 0.07369713]\n",
      "1100 0.000707639 [ 0.96910399] [ 0.07023366]\n",
      "1120 0.000642687 [ 0.97055608] [ 0.06693298]\n",
      "1140 0.000583697 [ 0.97193986] [ 0.06378737]\n",
      "1160 0.000530126 [ 0.97325855] [ 0.0607896]\n",
      "1180 0.000481468 [ 0.97451526] [ 0.05793272]\n",
      "1200 0.00043728 [ 0.97571295] [ 0.05521011]\n",
      "1220 0.000397142 [ 0.97685438] [ 0.05261544]\n",
      "1240 0.00036069 [ 0.97794211] [ 0.05014274]\n",
      "1260 0.000327585 [ 0.97897875] [ 0.04778621]\n",
      "1280 0.000297519 [ 0.97996682] [ 0.04554038]\n",
      "1300 0.00027021 [ 0.98090827] [ 0.04340011]\n",
      "1320 0.00024541 [ 0.9818055] [ 0.04136044]\n",
      "1340 0.000222884 [ 0.98266059] [ 0.03941662]\n",
      "1360 0.000202425 [ 0.98347551] [ 0.03756416]\n",
      "1380 0.000183845 [ 0.98425204] [ 0.03579878]\n",
      "1400 0.000166973 [ 0.98499221] [ 0.03411636]\n",
      "1420 0.000151648 [ 0.98569745] [ 0.03251302]\n",
      "1440 0.000137729 [ 0.98636955] [ 0.03098506]\n",
      "1460 0.000125087 [ 0.98701012] [ 0.02952891]\n",
      "1480 0.000113606 [ 0.98762065] [ 0.02814119]\n",
      "1500 0.000103179 [ 0.98820239] [ 0.02681867]\n",
      "1520 9.37102e-05 [ 0.98875684] [ 0.02555833]\n",
      "1540 8.51093e-05 [ 0.98928517] [ 0.02435719]\n",
      "1560 7.72971e-05 [ 0.98978883] [ 0.02321253]\n",
      "1580 7.02018e-05 [ 0.99026871] [ 0.02212157]\n",
      "1600 6.37578e-05 [ 0.99072605] [ 0.02108192]\n",
      "1620 5.79066e-05 [ 0.99116188] [ 0.02009114]\n",
      "1640 5.25909e-05 [ 0.99157721] [ 0.01914692]\n",
      "1660 4.77644e-05 [ 0.9919731] [ 0.0182471]\n",
      "1680 4.33811e-05 [ 0.99235028] [ 0.01738954]\n",
      "1700 3.93995e-05 [ 0.99270982] [ 0.01657229]\n",
      "1720 3.57829e-05 [ 0.99305242] [ 0.01579348]\n",
      "1740 3.24991e-05 [ 0.993379] [ 0.01505123]\n",
      "1760 2.9515e-05 [ 0.99369013] [ 0.01434386]\n",
      "1780 2.68067e-05 [ 0.99398667] [ 0.01366976]\n",
      "1800 2.43462e-05 [ 0.99426925] [ 0.01302733]\n",
      "1820 2.21112e-05 [ 0.99453861] [ 0.0124151]\n",
      "1840 2.00826e-05 [ 0.9947952] [ 0.01183163]\n",
      "1860 1.82392e-05 [ 0.99503988] [ 0.01127562]\n",
      "1880 1.65648e-05 [ 0.99527299] [ 0.01074567]\n",
      "1900 1.50443e-05 [ 0.99549514] [ 0.01024064]\n",
      "1920 1.36637e-05 [ 0.9957068] [ 0.00975938]\n",
      "1940 1.24096e-05 [ 0.99590856] [ 0.00930075]\n",
      "1960 1.12705e-05 [ 0.99610084] [ 0.00886366]\n",
      "1980 1.02356e-05 [ 0.99628413] [ 0.0084471]\n",
      "2000 9.29663e-06 [ 0.99645871] [ 0.00805013]\n"
     ]
    }
   ],
   "source": [
    "# Criar a sessão do grafo\n",
    "\n",
    "sess = tf.Session()\n",
    "\n",
    "# Inicializa as variáveis no grafo\n",
    "sess.run(tf.global_variables_initializer())\n",
    "\n",
    "#Treinamento\n",
    "\n",
    "for step in range(2001):\n",
    "    sess.run(train)\n",
    "    if step % 20 == 0:\n",
    "        print(step, sess.run(cost), sess.run(W), sess.run(b))"
   ]
  },
  {
   "cell_type": "markdown",
   "metadata": {
    "deletable": true,
    "editable": true
   },
   "source": [
    "Vamos exibir os dados originais e o modelo treinado. "
   ]
  },
  {
   "cell_type": "code",
   "execution_count": 16,
   "metadata": {
    "collapsed": false,
    "deletable": true,
    "editable": true
   },
   "outputs": [
    {
     "data": {
      "image/png": "[encoded data removed]",
      "text/plain": [
       "<matplotlib.figure.Figure at 0x1193db6a0>"
      ]
     },
     "metadata": {},
     "output_type": "display_data"
    }
   ],
   "source": [
    "import matplotlib.pyplot as plt\n",
    "\n",
    "#Graphic display\n",
    "plt.plot(x_train, y_train, 'ro', label='Original data')\n",
    "plt.plot(x_train, sess.run(W) * x_train + sess.run(b), label='Fitted line')\n",
    "plt.legend()\n",
    "plt.show()"
   ]
  },
  {
   "cell_type": "markdown",
   "metadata": {
    "deletable": true,
    "editable": true
   },
   "source": [
    "Vamos mudar nossa implementação para fazer uso dos conceito de **PlaceHolder**. Desta forma podemos \"alimentar\" nosso modelo com os dados. Nessa etapa vamos utilizar mais dados. As listas a seguir e o gráfico mostram os dados e sua distribuição. \n",
    "\n",
    "    x_train = [3.3,4.4,5.5,6.71,6.93,4.168,9.779,6.182,7.59,2.167, 7.042,10.791,5.313,7.997,5.654,9.27,3.1]\n",
    "    \n",
    "    y_train = [1.7,2.76,2.09,3.19,1.694,1.573,3.366,2.596,2.53,1.221, 2.827,3.465,1.65,2.904,2.42,2.94,1.3]\n",
    "    \n"
   ]
  },
  {
   "cell_type": "code",
   "execution_count": 17,
   "metadata": {
    "collapsed": false,
    "deletable": true,
    "editable": true
   },
   "outputs": [
    {
     "data": {
      "image/png": "[encoded data removed]",
      "text/plain": [
       "<matplotlib.figure.Figure at 0x11a4d2c18>"
      ]
     },
     "metadata": {},
     "output_type": "display_data"
    }
   ],
   "source": [
    "x_train = [3.3,4.4,5.5,6.71,6.93,4.168,9.779,6.182,7.59,2.167,\n",
    "                         7.042,10.791,5.313,7.997,5.654,9.27,3.1]\n",
    "y_train = [1.7,2.76,2.09,3.19,1.694,1.573,3.366,2.596,2.53,1.221,\n",
    "                         2.827,3.465,1.65,2.904,2.42,2.94,1.3]\n",
    "\n",
    "plt.plot(x_train, y_train, 'ro', label='Original data')\n",
    "plt.show()"
   ]
  },
  {
   "cell_type": "code",
   "execution_count": 18,
   "metadata": {
    "collapsed": false,
    "deletable": true,
    "editable": true
   },
   "outputs": [
    {
     "name": "stdout",
     "output_type": "stream",
     "text": [
      "0 0.370487 [ 0.37131417] [-0.31831747]\n",
      "20 0.292726 [ 0.40102664] [-0.26031876]\n",
      "40 0.27986 [ 0.39393809] [-0.21006398]\n",
      "60 0.268186 [ 0.38718587] [-0.16219382]\n",
      "80 0.257594 [ 0.38075405] [-0.11659507]\n",
      "100 0.247983 [ 0.37462738] [-0.07315994]\n",
      "120 0.239263 [ 0.36879146] [-0.0317858]\n",
      "140 0.23135 [ 0.36323243] [ 0.00762516]\n",
      "160 0.224171 [ 0.35793719] [ 0.04516608]\n",
      "180 0.217656 [ 0.35289317] [ 0.0809257]\n",
      "200 0.211746 [ 0.34808856] [ 0.11498857]\n",
      "220 0.206382 [ 0.34351188] [ 0.14743516]\n",
      "240 0.201516 [ 0.33915237] [ 0.17834216]\n",
      "260 0.197101 [ 0.33499968] [ 0.20778264]\n",
      "280 0.193094 [ 0.33104408] [ 0.23582621]\n",
      "300 0.189459 [ 0.32727614] [ 0.26253909]\n",
      "320 0.186161 [ 0.32368702] [ 0.28798449]\n",
      "340 0.183168 [ 0.32026818] [ 0.31222245]\n",
      "360 0.180452 [ 0.31701156] [ 0.33531034]\n",
      "380 0.177988 [ 0.31390947] [ 0.3573027]\n",
      "400 0.175753 [ 0.3109546] [ 0.37825158]\n",
      "420 0.173724 [ 0.30813989] [ 0.3982065]\n",
      "440 0.171884 [ 0.30545875] [ 0.41721457]\n",
      "460 0.170214 [ 0.30290484] [ 0.43532073]\n",
      "480 0.168698 [ 0.30047211] [ 0.4525677]\n",
      "500 0.167323 [ 0.2981548] [ 0.46899635]\n",
      "520 0.166076 [ 0.29594746] [ 0.4846454]\n",
      "540 0.164944 [ 0.29384485] [ 0.49955201]\n",
      "560 0.163917 [ 0.29184198] [ 0.51375127]\n",
      "580 0.162985 [ 0.28993419] [ 0.52727681]\n",
      "600 0.162139 [ 0.2881169] [ 0.54016042]\n",
      "620 0.161372 [ 0.28638586] [ 0.55243272]\n",
      "640 0.160676 [ 0.28473696] [ 0.56412274]\n",
      "660 0.160044 [ 0.28316629] [ 0.57525808]\n",
      "680 0.159471 [ 0.28167015] [ 0.5858652]\n",
      "700 0.158951 [ 0.28024498] [ 0.59596896]\n",
      "720 0.158479 [ 0.27888745] [ 0.60559314]\n",
      "740 0.158051 [ 0.27759433] [ 0.61476076]\n",
      "760 0.157662 [ 0.2763626] [ 0.62349325]\n",
      "780 0.15731 [ 0.27518925] [ 0.63181168]\n",
      "800 0.15699 [ 0.2740716] [ 0.63973522]\n",
      "820 0.1567 [ 0.27300704] [ 0.64728278]\n",
      "840 0.156436 [ 0.27199295] [ 0.65447217]\n",
      "860 0.156198 [ 0.27102697] [ 0.66132039]\n",
      "880 0.155981 [ 0.27010682] [ 0.66784382]\n",
      "900 0.155784 [ 0.26923037] [ 0.6740576]\n",
      "920 0.155606 [ 0.26839545] [ 0.6799767]\n",
      "940 0.155444 [ 0.26760018] [ 0.68561476]\n",
      "960 0.155297 [ 0.26684266] [ 0.69098538]\n",
      "980 0.155163 [ 0.26612106] [ 0.69610119]\n",
      "1000 0.155042 [ 0.2654337] [ 0.70097423]\n",
      "1020 0.154933 [ 0.26477897] [ 0.705616]\n",
      "1040 0.154833 [ 0.2641553] [ 0.71003747]\n",
      "1060 0.154743 [ 0.26356122] [ 0.71424931]\n",
      "1080 0.154661 [ 0.26299533] [ 0.71826112]\n",
      "1100 0.154586 [ 0.2624563] [ 0.72208267]\n",
      "1120 0.154519 [ 0.26194283] [ 0.72572297]\n",
      "1140 0.154458 [ 0.26145372] [ 0.72919047]\n",
      "1160 0.154402 [ 0.26098785] [ 0.7324934]\n",
      "1180 0.154352 [ 0.26054403] [ 0.73563975]\n",
      "1200 0.154306 [ 0.26012132] [ 0.73863661]\n",
      "1220 0.154264 [ 0.25971863] [ 0.7414915]\n",
      "1240 0.154227 [ 0.25933504] [ 0.7442109]\n",
      "1260 0.154192 [ 0.25896969] [ 0.7468012]\n",
      "1280 0.154161 [ 0.25862166] [ 0.74926847]\n",
      "1300 0.154133 [ 0.25829014] [ 0.75161874]\n",
      "1320 0.154108 [ 0.25797439] [ 0.75385743]\n",
      "1340 0.154085 [ 0.25767356] [ 0.75599003]\n",
      "1360 0.154064 [ 0.25738704] [ 0.75802135]\n",
      "1380 0.154044 [ 0.25711411] [ 0.75995636]\n",
      "1400 0.154027 [ 0.25685415] [ 0.76179945]\n",
      "1420 0.154011 [ 0.25660649] [ 0.76355517]\n",
      "1440 0.153997 [ 0.2563706] [ 0.76522756]\n",
      "1460 0.153984 [ 0.25614589] [ 0.76682061]\n",
      "1480 0.153973 [ 0.25593185] [ 0.76833808]\n",
      "1500 0.153962 [ 0.25572795] [ 0.76978368]\n",
      "1520 0.153952 [ 0.25553373] [ 0.77116054]\n",
      "1540 0.153944 [ 0.25534874] [ 0.77247202]\n",
      "1560 0.153936 [ 0.25517252] [ 0.77372128]\n",
      "1580 0.153928 [ 0.25500467] [ 0.77491134]\n",
      "1600 0.153922 [ 0.25484478] [ 0.77604491]\n",
      "1620 0.153916 [ 0.25469247] [ 0.77712464]\n",
      "1640 0.15391 [ 0.25454742] [ 0.77815312]\n",
      "1660 0.153906 [ 0.25440919] [ 0.77913302]\n",
      "1680 0.153901 [ 0.25427756] [ 0.78006631]\n",
      "1700 0.153897 [ 0.25415218] [ 0.78095526]\n",
      "1720 0.153893 [ 0.25403273] [ 0.78180206]\n",
      "1740 0.15389 [ 0.25391895] [ 0.78260863]\n",
      "1760 0.153887 [ 0.25381055] [ 0.78337699]\n",
      "1780 0.153884 [ 0.25370732] [ 0.78410894]\n",
      "1800 0.153882 [ 0.253609] [ 0.78480607]\n",
      "1820 0.15388 [ 0.2535153] [ 0.78547013]\n",
      "1840 0.153878 [ 0.2534261] [ 0.78610265]\n",
      "1860 0.153876 [ 0.25334114] [ 0.78670514]\n",
      "1880 0.153874 [ 0.25326017] [ 0.78727907]\n",
      "1900 0.153873 [ 0.25318307] [ 0.7878257]\n",
      "1920 0.153871 [ 0.2531096] [ 0.78834647]\n",
      "1940 0.15387 [ 0.25303957] [ 0.78884298]\n",
      "1960 0.153869 [ 0.2529729] [ 0.78931564]\n",
      "1980 0.153868 [ 0.25290942] [ 0.78976578]\n",
      "2000 0.153867 [ 0.25284895] [ 0.79019445]\n"
     ]
    }
   ],
   "source": [
    "# Modelo completo utilizando o placeholder\n",
    "\n",
    "W = tf.Variable(tf.random_normal([1]), name=\"weight\")\n",
    "b = tf.Variable(tf.random_normal([1]), name=\"bias\")\n",
    "\n",
    "X = tf.placeholder(tf.float32)\n",
    "Y = tf.placeholder(tf.float32)\n",
    "\n",
    "hypothesis = X * W + b\n",
    "\n",
    "cost = tf.reduce_mean(tf.square(hypothesis - Y))\n",
    "\n",
    "optimizer = tf.train.GradientDescentOptimizer(learning_rate=0.01)\n",
    "train = optimizer.minimize(cost)\n",
    "\n",
    "sess = tf.Session()\n",
    "\n",
    "sess.run(tf.global_variables_initializer())\n",
    "\n",
    "for step in range(2001):\n",
    "    sess.run(train, feed_dict={X: x_train, Y: y_train})\n",
    "    if step % 20 == 0:\n",
    "        print(step, sess.run(cost, feed_dict={X: x_train, Y: y_train}), \n",
    "              sess.run(W), sess.run(b))"
   ]
  },
  {
   "cell_type": "code",
   "execution_count": 19,
   "metadata": {
    "collapsed": false,
    "deletable": true,
    "editable": true
   },
   "outputs": [
    {
     "data": {
      "image/png": "[encoded data removed]",
      "text/plain": [
       "<matplotlib.figure.Figure at 0x11a626ef0>"
      ]
     },
     "metadata": {},
     "output_type": "display_data"
    }
   ],
   "source": [
    "#Graphic display\n",
    "plt.plot(x_train, y_train, 'ro', label='Original data')\n",
    "plt.plot(x_train, sess.run(W) * x_train + sess.run(b), label='Fitted line')\n",
    "plt.legend()\n",
    "plt.show()"
   ]
  }
 ],
 "metadata": {
  "kernelspec": {
   "display_name": "Python 3",
   "language": "python",
   "name": "python3"
  },
  "language_info": {
   "codemirror_mode": {
    "name": "ipython",
    "version": 3
   },
   "file_extension": ".py",
   "mimetype": "text/x-python",
   "name": "python",
   "nbconvert_exporter": "python",
   "pygments_lexer": "ipython3",
   "version": "3.6.0"
  }
 },
 "nbformat": 4,
 "nbformat_minor": 0
}
