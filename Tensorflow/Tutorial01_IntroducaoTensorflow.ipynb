{
 "cells": [
  {
   "cell_type": "markdown",
   "metadata": {
    "deletable": true,
    "editable": true
   },
   "source": [
    "# Tutorial 1\n",
    "\n",
    "Esse tutorial tem como objetivo explorar os conceitos básicos do Tensorflow. Detalhes de como instalar o TensorFlow podem ser encontrados em: https://www.tensorflow.org/. \n",
    "\n",
    "Links de referência para esse material:\n",
    "\n",
    "* [Tutorial do Tensorflow](https://www.tensorflow.org/get_started/mnist/beginners)\n",
    "* [Curso básico do Tensorflow](https://drive.google.com/drive/mobile/folders/0B41Zbb4c8HVyMHlSQlVFWWphNXc)\n",
    "* [TensorFlow Examples](https://github.com/aymericdamien/TensorFlow-Examples)"
   ]
  },
  {
   "cell_type": "markdown",
   "metadata": {
    "deletable": true,
    "editable": true
   },
   "source": [
    "O código a seguir verifica se o tensorflow foi instalado e exibe a versão atual"
   ]
  },
  {
   "cell_type": "code",
   "execution_count": 1,
   "metadata": {
    "collapsed": false,
    "deletable": true,
    "editable": true
   },
   "outputs": [
    {
     "data": {
      "text/plain": [
       "'1.0.0'"
      ]
     },
     "execution_count": 1,
     "metadata": {},
     "output_type": "execute_result"
    }
   ],
   "source": [
    "import tensorflow as tf\n",
    "tf.__version__"
   ]
  },
  {
   "cell_type": "markdown",
   "metadata": {
    "deletable": true,
    "editable": true
   },
   "source": [
    " Para entender um pouco do funcionamento do tensorflow, vamos criar a \"rede\" a seguir: \n",
    " \n",
    " <img src=\"http://adolfo.data2learning.com/ludiico/images/diagrama1.png\" />"
   ]
  },
  {
   "cell_type": "code",
   "execution_count": 3,
   "metadata": {
    "collapsed": true,
    "deletable": true,
    "editable": true
   },
   "outputs": [],
   "source": [
    "#Criando os nós:\n",
    "\n",
    "node1 = tf.constant(3.0, tf.float32) #Cria o nó \"a\" com o valor 3 do tipo float\n",
    "node2 = tf.constant(4.0) # Cria o nó \"b\" com o valor 4 (implicitamente ele também é do tipo float)\n",
    "node3 = tf.add(node1, node2) # Cria o nó raiz aplicando as operações de soma nos nós a e b"
   ]
  },
  {
   "cell_type": "code",
   "execution_count": 4,
   "metadata": {
    "collapsed": false,
    "deletable": true,
    "editable": true
   },
   "outputs": [
    {
     "name": "stdout",
     "output_type": "stream",
     "text": [
      "node1: Tensor(\"Const_1:0\", shape=(), dtype=float32) node2: Tensor(\"Const_2:0\", shape=(), dtype=float32)\n",
      "node3: Tensor(\"Add:0\", shape=(), dtype=float32)\n"
     ]
    }
   ],
   "source": [
    "print(\"node1:\", node1, \"node2:\", node2)\n",
    "print(\"node3:\", node3)"
   ]
  },
  {
   "cell_type": "code",
   "execution_count": 6,
   "metadata": {
    "collapsed": false,
    "deletable": true,
    "editable": true
   },
   "outputs": [
    {
     "data": {
      "text/plain": [
       "7.0"
      ]
     },
     "execution_count": 6,
     "metadata": {},
     "output_type": "execute_result"
    }
   ],
   "source": [
    "#Vamos criar uma seção do TensorFlow para executar as operações necessárias:\n",
    "\n",
    "sess = tf.Session()\n",
    "sess.run(node3)"
   ]
  },
  {
   "cell_type": "markdown",
   "metadata": {
    "deletable": true,
    "editable": true
   },
   "source": [
    "O workflow de trabalho com o tensorflow pode ser dividio em 3 partes:\n",
    " \n",
    "* Construção do grafo utilizando as operações do Tensorflow **In[3]**\n",
    "* Alimentar com os dados e executar as operações do grafo (*sess.run(op)*) **In[6]**\n",
    "* Atualizar as variáveis do grafo (e retornar os valores de saída) **In[6]**"
   ]
  },
  {
   "cell_type": "markdown",
   "metadata": {
    "deletable": true,
    "editable": true
   },
   "source": [
    "Na primeira solução, criamos o grafo já com os valores pré-definidos. No entanto, é interessante que esses valores sejam alimentados com os valore de entrada. Para isso, vamos criar os **placeholder**. Detalhes sobre **feed** e **placeholder** podem ser encontrados em: https://www.tensorflow.org/programmers_guide/reading_data#feeding"
   ]
  },
  {
   "cell_type": "code",
   "execution_count": 7,
   "metadata": {
    "collapsed": false,
    "deletable": true,
    "editable": true
   },
   "outputs": [
    {
     "name": "stdout",
     "output_type": "stream",
     "text": [
      "7.0\n"
     ]
    }
   ],
   "source": [
    "a = tf.placeholder(tf.float32)\n",
    "b = tf.placeholder(tf.float32)\n",
    "\n",
    "adder_node = a + b # esse comando tem a mesma função de tf.add(node1, node2) do exemplo anterior\n",
    "\n",
    "print(sess.run(adder_node, feed_dict={a: 3, b: 4}))"
   ]
  },
  {
   "cell_type": "code",
   "execution_count": 8,
   "metadata": {
    "collapsed": false,
    "deletable": true,
    "editable": true
   },
   "outputs": [
    {
     "name": "stdout",
     "output_type": "stream",
     "text": [
      "[ 3.  7.]\n"
     ]
    }
   ],
   "source": [
    "print(sess.run(adder_node, feed_dict={a: [1, 3], b:[2, 4]}))"
   ]
  },
  {
   "cell_type": "markdown",
   "metadata": {
    "deletable": true,
    "editable": true
   },
   "source": [
    "Um outro conceito básico importante é o conceito de **Variáveis** no Tensorflow. Quando criamos um modelo, as veriáveis são utilizadas para manter e atualizar os parâmetros deste modelo. Detalhes sobre variáveis podem ser encontrados em: https://www.tensorflow.org/programmers_guide/variables\n",
    "\n",
    "O exemplo a seguir, mostra brevemente como seria o uso de váriaveis no código. "
   ]
  },
  {
   "cell_type": "code",
   "execution_count": 20,
   "metadata": {
    "collapsed": false,
    "deletable": true,
    "editable": true
   },
   "outputs": [],
   "source": [
    "# Cria as variáveis \n",
    "\n",
    "weights = tf.Variable(tf.random_normal([784, 200], stddev=0.35), name=\"weights\")\n",
    "biases = tf.Variable(tf.zeros([200]), name=\"biases\")\n",
    "\n",
    "# Adiciona um operação que inicializa as variáveis que serão utilizadas no modelo \n",
    "init_op = tf.global_variables_initializer()\n",
    "\n",
    "# Quando for rodar o modelo, executa a inicialização das operações\n",
    "\n",
    "with tf.Session() as sess:\n",
    "    sess.run(init_op)\n",
    "    # ... \n",
    "    # Use the model \n",
    "    # ..."
   ]
  },
  {
   "cell_type": "markdown",
   "metadata": {
    "deletable": true,
    "editable": true
   },
   "source": [
    "Outro conceito importante é o conceito de **Tensor**. No tensorflow tudo é Tensor (*Everything is Tensor*). Você pode imaginar o **Tensor** como sendo um array n-dimensional ou uma lista. Um tensor possui um tipo estático e a dimensão é determinada de forma dinâmica. Uma observação importante é que apenas *tensors* podem ser passados entre os nós de um grafo no tensorflow. Dealhes podem ser encontrados em: https://www.tensorflow.org/programmers_guide/dims_types"
   ]
  },
  {
   "cell_type": "markdown",
   "metadata": {
    "deletable": true,
    "editable": true
   },
   "source": [
    "Para ilustrar esses componentes, vamos trabalhar com o modelo. O próposito é criar o modelo de regressão linear utilizando o tensorflow. Para treinar valos utilizar os seguinte modelo: \n",
    "\n",
    "* Hypothesis\n",
    "\n",
    "$H(x) = Wx + b$\n",
    "\n",
    "* Const function\n",
    "\n",
    "$cost(W, b) = \\frac{1}{m}\\sum_{i=1}^{m}(H(x^{(i)})-y^{(i)})^2$\n",
    "\n",
    "* Gradient descent algorithm"
   ]
  },
  {
   "cell_type": "code",
   "execution_count": 21,
   "metadata": {
    "collapsed": true,
    "deletable": true,
    "editable": true
   },
   "outputs": [],
   "source": [
    "# Cosntruindo o grafo utilizando operações do Tensorflow\n",
    "\n",
    "# Dados de entrada\n",
    "\n",
    "x_train = [1, 2, 3]\n",
    "y_train = [1, 2, 3]\n",
    "\n",
    "# Criando a operação da Hypothesis\n",
    "\n",
    "W = tf.Variable(tf.random_normal([1]), name=\"weight\")\n",
    "b = tf.Variable(tf.random_normal([1]), name=\"bias\")\n",
    "\n",
    "# XW + b\n",
    "\n",
    "hypothesis = x_train * W + b"
   ]
  },
  {
   "cell_type": "code",
   "execution_count": 22,
   "metadata": {
    "collapsed": true,
    "deletable": true,
    "editable": true
   },
   "outputs": [],
   "source": [
    "# cost function\n",
    "\n",
    "cost = tf.reduce_mean(tf.square(hypothesis - y_train))"
   ]
  },
  {
   "cell_type": "code",
   "execution_count": 23,
   "metadata": {
    "collapsed": true,
    "deletable": true,
    "editable": true
   },
   "outputs": [],
   "source": [
    "# Gradient Descent\n",
    "\n",
    "optimizer = tf.train.GradientDescentOptimizer(learning_rate=0.01)\n",
    "train = optimizer.minimize(cost)"
   ]
  },
  {
   "cell_type": "markdown",
   "metadata": {
    "deletable": true,
    "editable": true
   },
   "source": [
    "Uma vez que o modelo foi criado, o próximo passo é o de executar e atualizar o grafo e pegar o resultado final. "
   ]
  },
  {
   "cell_type": "code",
   "execution_count": 24,
   "metadata": {
    "collapsed": false,
    "deletable": true,
    "editable": true
   },
   "outputs": [
    {
     "name": "stdout",
     "output_type": "stream",
     "text": [
      "0 5.61987 [ 2.10510969] [-0.0180308]\n",
      "20 0.0739709 [ 1.26462615] [-0.36406687]\n",
      "40 0.0215752 [ 1.17710483] [-0.37998706]\n",
      "60 0.0191815 [ 1.16163206] [-0.36527425]\n",
      "80 0.0174172 [ 1.15335512] [-0.34840718]\n",
      "100 0.0158185 [ 1.14608335] [-0.33206195]\n",
      "120 0.0143667 [ 1.13921165] [-0.31645903]\n",
      "140 0.013048 [ 1.13266873] [-0.30158687]\n",
      "160 0.0118504 [ 1.12643373] [-0.28741345]\n",
      "180 0.0107627 [ 1.12049186] [-0.27390623]\n",
      "200 0.00977492 [ 1.11482918] [-0.26103365]\n",
      "220 0.00887773 [ 1.1094327] [-0.24876603]\n",
      "240 0.00806289 [ 1.10428977] [-0.23707497]\n",
      "260 0.00732284 [ 1.09938848] [-0.22593333]\n",
      "280 0.00665072 [ 1.0947175] [-0.21531527]\n",
      "300 0.00604029 [ 1.09026611] [-0.20519622]\n",
      "320 0.00548589 [ 1.08602405] [-0.19555275]\n",
      "340 0.00498238 [ 1.08198142] [-0.18636253]\n",
      "360 0.00452507 [ 1.07812834] [-0.1776042]\n",
      "380 0.00410975 [ 1.07445669] [-0.16925748]\n",
      "400 0.00373254 [ 1.07095754] [-0.16130301]\n",
      "420 0.00338996 [ 1.06762278] [-0.15372241]\n",
      "440 0.00307881 [ 1.06444478] [-0.14649801]\n",
      "460 0.00279622 [ 1.06141603] [-0.13961317]\n",
      "480 0.00253957 [ 1.05852962] [-0.1330518]\n",
      "500 0.00230648 [ 1.05577898] [-0.12679881]\n",
      "520 0.00209478 [ 1.05315757] [-0.12083972]\n",
      "540 0.00190252 [ 1.05065942] [-0.1151607]\n",
      "560 0.00172789 [ 1.04827857] [-0.10974856]\n",
      "580 0.0015693 [ 1.04600966] [-0.10459072]\n",
      "600 0.00142526 [ 1.04384744] [-0.09967537]\n",
      "620 0.00129445 [ 1.04178667] [-0.09499104]\n",
      "640 0.00117563 [ 1.03982258] [-0.09052671]\n",
      "660 0.00106773 [ 1.03795123] [-0.0862722]\n",
      "680 0.000969732 [ 1.03616774] [-0.08221774]\n",
      "700 0.000880722 [ 1.03446805] [-0.07835383]\n",
      "720 0.000799888 [ 1.03284812] [-0.07467151]\n",
      "740 0.000726475 [ 1.03130448] [-0.07116226]\n",
      "760 0.000659796 [ 1.02983332] [-0.06781796]\n",
      "780 0.000599237 [ 1.02843118] [-0.0646308]\n",
      "800 0.000544236 [ 1.02709508] [-0.06159342]\n",
      "820 0.000494286 [ 1.02582181] [-0.0586988]\n",
      "840 0.000448921 [ 1.02460825] [-0.05594022]\n",
      "860 0.000407716 [ 1.02345181] [-0.05331131]\n",
      "880 0.000370296 [ 1.02234972] [-0.05080592]\n",
      "900 0.000336307 [ 1.02129924] [-0.04841828]\n",
      "920 0.000305446 [ 1.0202986] [-0.04614292]\n",
      "940 0.000277405 [ 1.01934409] [-0.04397433]\n",
      "960 0.000251946 [ 1.01843512] [-0.04190759]\n",
      "980 0.00022882 [ 1.01756871] [-0.03993801]\n",
      "1000 0.000207816 [ 1.01674318] [-0.03806105]\n",
      "1020 0.000188742 [ 1.01595628] [-0.03627234]\n",
      "1040 0.000171422 [ 1.01520646] [-0.0345677]\n",
      "1060 0.000155686 [ 1.01449168] [-0.03294316]\n",
      "1080 0.000141395 [ 1.01381063] [-0.0313949]\n",
      "1100 0.000128417 [ 1.01316154] [-0.02991943]\n",
      "1120 0.000116632 [ 1.01254296] [-0.02851328]\n",
      "1140 0.000105926 [ 1.01195347] [-0.02717323]\n",
      "1160 9.62048e-05 [ 1.01139176] [-0.02589618]\n",
      "1180 8.73737e-05 [ 1.01085639] [-0.02467916]\n",
      "1200 7.93545e-05 [ 1.01034617] [-0.02351935]\n",
      "1220 7.20696e-05 [ 1.0098598] [-0.02241394]\n",
      "1240 6.54548e-05 [ 1.00939643] [-0.02136049]\n",
      "1260 5.94461e-05 [ 1.00895488] [-0.02035658]\n",
      "1280 5.39903e-05 [ 1.00853395] [-0.01939987]\n",
      "1300 4.90344e-05 [ 1.00813293] [-0.01848811]\n",
      "1320 4.45347e-05 [ 1.00775075] [-0.01761923]\n",
      "1340 4.04469e-05 [ 1.00738657] [-0.01679122]\n",
      "1360 3.67341e-05 [ 1.00703943] [-0.01600213]\n",
      "1380 3.33631e-05 [ 1.00670838] [-0.01525006]\n",
      "1400 3.03003e-05 [ 1.00639319] [-0.0145333]\n",
      "1420 2.75194e-05 [ 1.00609279] [-0.01385027]\n",
      "1440 2.49933e-05 [ 1.00580645] [-0.01319934]\n",
      "1460 2.26992e-05 [ 1.00553358] [-0.01257902]\n",
      "1480 2.06161e-05 [ 1.00527346] [-0.01198787]\n",
      "1500 1.87237e-05 [ 1.00502551] [-0.01142445]\n",
      "1520 1.70052e-05 [ 1.00478935] [-0.0108875]\n",
      "1540 1.54441e-05 [ 1.00456429] [-0.01037579]\n",
      "1560 1.40268e-05 [ 1.00434983] [-0.00988816]\n",
      "1580 1.2739e-05 [ 1.00414538] [-0.00942344]\n",
      "1600 1.157e-05 [ 1.0039506] [-0.00898058]\n",
      "1620 1.05078e-05 [ 1.00376499] [-0.00855854]\n",
      "1640 9.54363e-06 [ 1.00358796] [-0.00815635]\n",
      "1660 8.66794e-06 [ 1.00341952] [-0.00777307]\n",
      "1680 7.87246e-06 [ 1.00325882] [-0.00740782]\n",
      "1700 7.14978e-06 [ 1.00310564] [-0.00705973]\n",
      "1720 6.49363e-06 [ 1.00295973] [-0.00672796]\n",
      "1740 5.89784e-06 [ 1.00282061] [-0.0064118]\n",
      "1760 5.35661e-06 [ 1.00268805] [-0.00611048]\n",
      "1780 4.86485e-06 [ 1.00256169] [-0.00582333]\n",
      "1800 4.41801e-06 [ 1.00244129] [-0.00554963]\n",
      "1820 4.01277e-06 [ 1.00232661] [-0.00528881]\n",
      "1840 3.6446e-06 [ 1.00221729] [-0.00504028]\n",
      "1860 3.31009e-06 [ 1.0021131] [-0.00480347]\n",
      "1880 3.00637e-06 [ 1.0020138] [-0.00457779]\n",
      "1900 2.73037e-06 [ 1.00191927] [-0.00436273]\n",
      "1920 2.47991e-06 [ 1.00182915] [-0.00415775]\n",
      "1940 2.2524e-06 [ 1.0017432] [-0.00396239]\n",
      "1960 2.04557e-06 [ 1.00166118] [-0.00377626]\n",
      "1980 1.85807e-06 [ 1.00158334] [-0.00359889]\n",
      "2000 1.68766e-06 [ 1.00150883] [-0.00342983]\n"
     ]
    }
   ],
   "source": [
    "# Criar a sessão do grafo\n",
    "\n",
    "sess = tf.Session()\n",
    "\n",
    "# Inicializa as variáveis no grafo\n",
    "sess.run(tf.global_variables_initializer())\n",
    "\n",
    "#Treinamento\n",
    "\n",
    "for step in range(2001):\n",
    "    sess.run(train)\n",
    "    if step % 20 == 0:\n",
    "        print(step, sess.run(cost), sess.run(W), sess.run(b))"
   ]
  },
  {
   "cell_type": "markdown",
   "metadata": {
    "deletable": true,
    "editable": true
   },
   "source": [
    "Vamos exibir os dados originais e o modelo treinado. "
   ]
  },
  {
   "cell_type": "code",
   "execution_count": 28,
   "metadata": {
    "collapsed": false,
    "deletable": true,
    "editable": true
   },
   "outputs": [
    {
     "data": {
      "image/png": "[encoded data removed]",
      "text/plain": [
       "<matplotlib.figure.Figure at 0x1187d5160>"
      ]
     },
     "metadata": {},
     "output_type": "display_data"
    }
   ],
   "source": [
    "#Graphic display\n",
    "plt.plot(x_train, y_train, 'ro', label='Original data')\n",
    "plt.plot(x_train, sess.run(W) * x_train + sess.run(b), label='Fitted line')\n",
    "plt.legend()\n",
    "plt.show()"
   ]
  },
  {
   "cell_type": "markdown",
   "metadata": {
    "deletable": true,
    "editable": true
   },
   "source": [
    "Vamos mudar nossa implementação para que use os conceitos de **PlaceHolder** e que a gente possa alimentar nosso modelo com os dados. Nessa etapa vamos utilizar mais dados. As listas a seguir e o gráfico mostram a distribuição dos dados que a gente vai criar. \n",
    "\n",
    "    x_train = [3.3,4.4,5.5,6.71,6.93,4.168,9.779,6.182,7.59,2.167, 7.042,10.791,5.313,7.997,5.654,9.27,3.1]\n",
    "    \n",
    "    y_train = [1.7,2.76,2.09,3.19,1.694,1.573,3.366,2.596,2.53,1.221, 2.827,3.465,1.65,2.904,2.42,2.94,1.3]\n",
    "    \n"
   ]
  },
  {
   "cell_type": "code",
   "execution_count": 36,
   "metadata": {
    "collapsed": false,
    "deletable": true,
    "editable": true
   },
   "outputs": [
    {
     "data": {
      "image/png": "[encoded data removed]",
      "text/plain": [
       "<matplotlib.figure.Figure at 0x1188b35f8>"
      ]
     },
     "metadata": {},
     "output_type": "display_data"
    }
   ],
   "source": [
    "x_train = [3.3,4.4,5.5,6.71,6.93,4.168,9.779,6.182,7.59,2.167,\n",
    "                         7.042,10.791,5.313,7.997,5.654,9.27,3.1]\n",
    "y_train = [1.7,2.76,2.09,3.19,1.694,1.573,3.366,2.596,2.53,1.221,\n",
    "                         2.827,3.465,1.65,2.904,2.42,2.94,1.3]\n",
    "\n",
    "plt.plot(x_train, y_train, 'ro', label='Original data')\n",
    "plt.show()"
   ]
  },
  {
   "cell_type": "code",
   "execution_count": 1,
   "metadata": {
    "collapsed": false,
    "deletable": true,
    "editable": true
   },
   "outputs": [
    {
     "ename": "NameError",
     "evalue": "name 'tf' is not defined",
     "traceback": [
      "\u001b[0;31m---------------------------------------------------------------------------\u001b[0m",
      "\u001b[0;31mNameError\u001b[0m                                 Traceback (most recent call last)",
      "\u001b[0;32m<ipython-input-1-951e38610528>\u001b[0m in \u001b[0;36m<module>\u001b[0;34m()\u001b[0m\n\u001b[1;32m      1\u001b[0m \u001b[0;31m# Modelo completo utilizando o placeholder\u001b[0m\u001b[0;34m\u001b[0m\u001b[0;34m\u001b[0m\u001b[0m\n\u001b[1;32m      2\u001b[0m \u001b[0;34m\u001b[0m\u001b[0m\n\u001b[0;32m----> 3\u001b[0;31m \u001b[0mW\u001b[0m \u001b[0;34m=\u001b[0m \u001b[0mtf\u001b[0m\u001b[0;34m.\u001b[0m\u001b[0mVariable\u001b[0m\u001b[0;34m(\u001b[0m\u001b[0mtf\u001b[0m\u001b[0;34m.\u001b[0m\u001b[0mrandom_normal\u001b[0m\u001b[0;34m(\u001b[0m\u001b[0;34m[\u001b[0m\u001b[0;36m1\u001b[0m\u001b[0;34m]\u001b[0m\u001b[0;34m)\u001b[0m\u001b[0;34m,\u001b[0m \u001b[0mname\u001b[0m\u001b[0;34m=\u001b[0m\u001b[0;34m\"weight\"\u001b[0m\u001b[0;34m)\u001b[0m\u001b[0;34m\u001b[0m\u001b[0m\n\u001b[0m\u001b[1;32m      4\u001b[0m \u001b[0mb\u001b[0m \u001b[0;34m=\u001b[0m \u001b[0mtf\u001b[0m\u001b[0;34m.\u001b[0m\u001b[0mVariable\u001b[0m\u001b[0;34m(\u001b[0m\u001b[0mtf\u001b[0m\u001b[0;34m.\u001b[0m\u001b[0mrandom_normal\u001b[0m\u001b[0;34m(\u001b[0m\u001b[0;34m[\u001b[0m\u001b[0;36m1\u001b[0m\u001b[0;34m]\u001b[0m\u001b[0;34m)\u001b[0m\u001b[0;34m,\u001b[0m \u001b[0mname\u001b[0m\u001b[0;34m=\u001b[0m\u001b[0;34m\"bias\"\u001b[0m\u001b[0;34m)\u001b[0m\u001b[0;34m\u001b[0m\u001b[0m\n\u001b[1;32m      5\u001b[0m \u001b[0;34m\u001b[0m\u001b[0m\n",
      "\u001b[0;31mNameError\u001b[0m: name 'tf' is not defined"
     ],
     "output_type": "error"
    }
   ],
   "source": [
    "# Modelo completo utilizando o placeholder\n",
    "\n",
    "W = tf.Variable(tf.random_normal([1]), name=\"weight\")\n",
    "b = tf.Variable(tf.random_normal([1]), name=\"bias\")\n",
    "\n",
    "X = tf.placeholder(tf.float32)\n",
    "Y = tf.placeholder(tf.float32)\n",
    "\n",
    "hypothesis = X * W + b\n",
    "\n",
    "cost = tf.reduce_mean(tf.square(hypothesis - Y))\n",
    "\n",
    "optimizer = tf.train.GradientDescentOptimizer(learning_rate=0.01)\n",
    "train = optimizer.minimize(cost)\n",
    "\n",
    "sess = tf.Session()\n",
    "\n",
    "sess.run(tf.global_variables_initializer())\n",
    "\n",
    "for step in range(2001):\n",
    "    sess.run(train, feed_dict={X: x_train, Y: y_train})\n",
    "    if step % 20 == 0:\n",
    "        print(step, sess.run(cost, feed_dict={X: x_train, Y: y_train}), \n",
    "              sess.run(W), sess.run(b))"
   ]
  },
  {
   "cell_type": "code",
   "execution_count": 42,
   "metadata": {
    "collapsed": false,
    "deletable": true,
    "editable": true
   },
   "outputs": [
    {
     "data": {
      "image/png": "[encoded data removed]",
      "text/plain": [
       "<matplotlib.figure.Figure at 0x118ae3c50>"
      ]
     },
     "metadata": {},
     "output_type": "display_data"
    }
   ],
   "source": [
    "#Graphic display\n",
    "plt.plot(x_train, y_train, 'ro', label='Original data')\n",
    "plt.plot(x_train, sess.run(W) * x_train + sess.run(b), label='Fitted line')\n",
    "plt.legend()\n",
    "plt.show()"
   ]
  }
 ],
 "metadata": {
  "kernelspec": {
   "display_name": "Python 3",
   "language": "python",
   "name": "python3"
  },
  "language_info": {
   "codemirror_mode": {
    "name": "ipython",
    "version": 3.0
   },
   "file_extension": ".py",
   "mimetype": "text/x-python",
   "name": "python",
   "nbconvert_exporter": "python",
   "pygments_lexer": "ipython3",
   "version": "3.6.0"
  }
 },
 "nbformat": 4,
 "nbformat_minor": 0
}